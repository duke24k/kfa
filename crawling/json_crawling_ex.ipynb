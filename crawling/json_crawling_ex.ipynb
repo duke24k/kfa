{
 "cells": [
  {
   "cell_type": "markdown",
   "metadata": {},
   "source": [
    "# json_crawling_ex"
   ]
  },
  {
   "cell_type": "code",
   "execution_count": 1,
   "metadata": {
    "collapsed": true
   },
   "outputs": [],
   "source": [
    "import requests\n",
    "import json"
   ]
  },
  {
   "cell_type": "code",
   "execution_count": 2,
   "metadata": {
    "collapsed": false
   },
   "outputs": [],
   "source": [
    "data = {\n",
    "    \"matchSno\": \"610\",\n",
    "    \"htClubSno\": \"98\",\n",
    "    \"atClubSno\": \"207\",\n",
    "    \"eventCd\": \"03,04,30,31,36\"\n",
    "}\n",
    "\n",
    "url = \"http://www.kfamatch.or.kr/svc/rst/selectMatchEventAjax.do\""
   ]
  },
  {
   "cell_type": "code",
   "execution_count": 3,
   "metadata": {
    "collapsed": false
   },
   "outputs": [],
   "source": [
    "res = requests.post(url, data=data)"
   ]
  },
  {
   "cell_type": "code",
   "execution_count": 4,
   "metadata": {
    "collapsed": false
   },
   "outputs": [
    {
     "data": {
      "text/plain": [
       "200"
      ]
     },
     "execution_count": 4,
     "metadata": {},
     "output_type": "execute_result"
    }
   ],
   "source": [
    "res.status_code"
   ]
  },
  {
   "cell_type": "code",
   "execution_count": 5,
   "metadata": {
    "collapsed": false
   },
   "outputs": [],
   "source": [
    "match_event = res.json()"
   ]
  },
  {
   "cell_type": "code",
   "execution_count": 6,
   "metadata": {
    "collapsed": false
   },
   "outputs": [
    {
     "data": {
      "text/plain": [
       "{'atMainEventList': [{'backno': '4',\n",
       "   'clubSno': 207,\n",
       "   'etc1': '2^3^수비실책',\n",
       "   'etc2': None,\n",
       "   'eventCd': '31',\n",
       "   'eventSno': 2189821,\n",
       "   'frame': 43603,\n",
       "   'halfGbnCd': '1',\n",
       "   'matchSno': 610,\n",
       "   'playerKorNm': 'Marat BIKMAEV',\n",
       "   'playerSno': 4628,\n",
       "   'succYn': 'S',\n",
       "   'timeMinute': 24,\n",
       "   'timePercentage': 49,\n",
       "   'xpos': '-7.02',\n",
       "   'ypos': '183.19'},\n",
       "  {'backno': '4',\n",
       "   'clubSno': 207,\n",
       "   'etc1': '선수교체',\n",
       "   'etc2': None,\n",
       "   'eventCd': '30',\n",
       "   'eventSno': 2190763,\n",
       "   'frame': 27920,\n",
       "   'halfGbnCd': '2',\n",
       "   'matchSno': 610,\n",
       "   'playerKorNm': 'Marat BIKMAEV',\n",
       "   'playerSno': 4628,\n",
       "   'succYn': 'S',\n",
       "   'timeMinute': 15,\n",
       "   'timePercentage': 31,\n",
       "   'xpos': '264.0',\n",
       "   'ypos': '1.0'},\n",
       "  {'backno': '15',\n",
       "   'clubSno': 207,\n",
       "   'etc1': '선수교체',\n",
       "   'etc2': None,\n",
       "   'eventCd': '30',\n",
       "   'eventSno': 2190764,\n",
       "   'frame': 27920,\n",
       "   'halfGbnCd': '2',\n",
       "   'matchSno': 610,\n",
       "   'playerKorNm': 'Alexander GEYNRIKH',\n",
       "   'playerSno': 4622,\n",
       "   'succYn': 'F',\n",
       "   'timeMinute': 15,\n",
       "   'timePercentage': 31,\n",
       "   'xpos': '264.0',\n",
       "   'ypos': '1.0'},\n",
       "  {'backno': '23',\n",
       "   'clubSno': 207,\n",
       "   'etc1': '선수교체',\n",
       "   'etc2': None,\n",
       "   'eventCd': '30',\n",
       "   'eventSno': 2191266,\n",
       "   'frame': 62715,\n",
       "   'halfGbnCd': '2',\n",
       "   'matchSno': 610,\n",
       "   'playerKorNm': 'Eldor SHOMURODOV',\n",
       "   'playerSno': 12246,\n",
       "   'succYn': 'S',\n",
       "   'timeMinute': 34,\n",
       "   'timePercentage': 71,\n",
       "   'xpos': '263.40',\n",
       "   'ypos': '-6.11'},\n",
       "  {'backno': '14',\n",
       "   'clubSno': 207,\n",
       "   'etc1': '선수교체',\n",
       "   'etc2': None,\n",
       "   'eventCd': '30',\n",
       "   'eventSno': 2191267,\n",
       "   'frame': 62715,\n",
       "   'halfGbnCd': '2',\n",
       "   'matchSno': 610,\n",
       "   'playerKorNm': 'Javokhir SOKHIBOV',\n",
       "   'playerSno': 12247,\n",
       "   'succYn': 'S',\n",
       "   'timeMinute': 34,\n",
       "   'timePercentage': 71,\n",
       "   'xpos': '263.40',\n",
       "   'ypos': '-6.11'},\n",
       "  {'backno': '17',\n",
       "   'clubSno': 207,\n",
       "   'etc1': '선수교체',\n",
       "   'etc2': None,\n",
       "   'eventCd': '30',\n",
       "   'eventSno': 2191402,\n",
       "   'frame': 76150,\n",
       "   'halfGbnCd': '2',\n",
       "   'matchSno': 610,\n",
       "   'playerKorNm': 'Vadim Afonin',\n",
       "   'playerSno': 6584,\n",
       "   'succYn': 'S',\n",
       "   'timeMinute': 42,\n",
       "   'timePercentage': 87,\n",
       "   'xpos': '264.0',\n",
       "   'ypos': '1.0'},\n",
       "  {'backno': '10',\n",
       "   'clubSno': 207,\n",
       "   'etc1': '선수교체',\n",
       "   'etc2': None,\n",
       "   'eventCd': '30',\n",
       "   'eventSno': 2191403,\n",
       "   'frame': 76150,\n",
       "   'halfGbnCd': '2',\n",
       "   'matchSno': 610,\n",
       "   'playerKorNm': 'Sardor Rashidov',\n",
       "   'playerSno': 2541,\n",
       "   'succYn': 'F',\n",
       "   'timeMinute': 42,\n",
       "   'timePercentage': 87,\n",
       "   'xpos': '264.0',\n",
       "   'ypos': '1.0'}],\n",
       " 'gameStatisticList': [{'clubSno': 98,\n",
       "   'eventCd': '01',\n",
       "   'failCnt': 0,\n",
       "   'succCnt': 10},\n",
       "  {'clubSno': 98, 'eventCd': '02', 'failCnt': 2, 'succCnt': 0},\n",
       "  {'clubSno': 98, 'eventCd': '03', 'failCnt': 0, 'succCnt': 2},\n",
       "  {'clubSno': 98, 'eventCd': '05', 'failCnt': 0, 'succCnt': 9},\n",
       "  {'clubSno': 98, 'eventCd': '06', 'failCnt': 15, 'succCnt': 8},\n",
       "  {'clubSno': 98, 'eventCd': '07', 'failCnt': 5, 'succCnt': 1},\n",
       "  {'clubSno': 98, 'eventCd': '08', 'failCnt': 0, 'succCnt': 1},\n",
       "  {'clubSno': 98, 'eventCd': '09', 'failCnt': 3, 'succCnt': 18},\n",
       "  {'clubSno': 98, 'eventCd': '10', 'failCnt': 5, 'succCnt': 0},\n",
       "  {'clubSno': 98, 'eventCd': '11', 'failCnt': 0, 'succCnt': 2},\n",
       "  {'clubSno': 98, 'eventCd': '12', 'failCnt': 9, 'succCnt': 8},\n",
       "  {'clubSno': 98, 'eventCd': '13', 'failCnt': 14, 'succCnt': 15},\n",
       "  {'clubSno': 98, 'eventCd': '14', 'failCnt': 4, 'succCnt': 5},\n",
       "  {'clubSno': 98, 'eventCd': '15', 'failCnt': 0, 'succCnt': 3},\n",
       "  {'clubSno': 98, 'eventCd': '17', 'failCnt': 0, 'succCnt': 2},\n",
       "  {'clubSno': 98, 'eventCd': '18', 'failCnt': 12, 'succCnt': 6},\n",
       "  {'clubSno': 98, 'eventCd': '20', 'failCnt': 2, 'succCnt': 1},\n",
       "  {'clubSno': 98, 'eventCd': '21', 'failCnt': 0, 'succCnt': 4},\n",
       "  {'clubSno': 98, 'eventCd': '22', 'failCnt': 3, 'succCnt': 0},\n",
       "  {'clubSno': 98, 'eventCd': '23', 'failCnt': 0, 'succCnt': 2},\n",
       "  {'clubSno': 98, 'eventCd': '24', 'failCnt': 2, 'succCnt': 25},\n",
       "  {'clubSno': 98, 'eventCd': '26', 'failCnt': 2, 'succCnt': 4},\n",
       "  {'clubSno': 98, 'eventCd': '27', 'failCnt': 2, 'succCnt': 6},\n",
       "  {'clubSno': 98, 'eventCd': '28', 'failCnt': 56, 'succCnt': 658},\n",
       "  {'clubSno': 98, 'eventCd': '29', 'failCnt': 62, 'succCnt': 605},\n",
       "  {'clubSno': 98, 'eventCd': '30', 'failCnt': 0, 'succCnt': 6},\n",
       "  {'clubSno': 98, 'eventCd': '31', 'failCnt': 0, 'succCnt': 2},\n",
       "  {'clubSno': 98, 'eventCd': '34', 'failCnt': 4, 'succCnt': 16},\n",
       "  {'clubSno': 98, 'eventCd': '35', 'failCnt': 1, 'succCnt': 1},\n",
       "  {'clubSno': 98, 'eventCd': '37', 'failCnt': 0, 'succCnt': 14},\n",
       "  {'clubSno': 98, 'eventCd': '38', 'failCnt': 0, 'succCnt': 8},\n",
       "  {'clubSno': 98, 'eventCd': '45', 'failCnt': 0, 'succCnt': 1},\n",
       "  {'clubSno': 98, 'eventCd': '47', 'failCnt': 0, 'succCnt': 2},\n",
       "  {'clubSno': 207, 'eventCd': '01', 'failCnt': 0, 'succCnt': 14},\n",
       "  {'clubSno': 207, 'eventCd': '05', 'failCnt': 0, 'succCnt': 25},\n",
       "  {'clubSno': 207, 'eventCd': '06', 'failCnt': 23, 'succCnt': 17},\n",
       "  {'clubSno': 207, 'eventCd': '07', 'failCnt': 9, 'succCnt': 4},\n",
       "  {'clubSno': 207, 'eventCd': '08', 'failCnt': 1, 'succCnt': 2},\n",
       "  {'clubSno': 207, 'eventCd': '09', 'failCnt': 15, 'succCnt': 17},\n",
       "  {'clubSno': 207, 'eventCd': '10', 'failCnt': 15, 'succCnt': 2},\n",
       "  {'clubSno': 207, 'eventCd': '11', 'failCnt': 1, 'succCnt': 4},\n",
       "  {'clubSno': 207, 'eventCd': '12', 'failCnt': 8, 'succCnt': 9},\n",
       "  {'clubSno': 207, 'eventCd': '13', 'failCnt': 15, 'succCnt': 14},\n",
       "  {'clubSno': 207, 'eventCd': '14', 'failCnt': 2, 'succCnt': 3},\n",
       "  {'clubSno': 207, 'eventCd': '15', 'failCnt': 0, 'succCnt': 1},\n",
       "  {'clubSno': 207, 'eventCd': '18', 'failCnt': 3, 'succCnt': 0},\n",
       "  {'clubSno': 207, 'eventCd': '21', 'failCnt': 0, 'succCnt': 3},\n",
       "  {'clubSno': 207, 'eventCd': '22', 'failCnt': 4, 'succCnt': 0},\n",
       "  {'clubSno': 207, 'eventCd': '24', 'failCnt': 5, 'succCnt': 10},\n",
       "  {'clubSno': 207, 'eventCd': '27', 'failCnt': 3, 'succCnt': 1},\n",
       "  {'clubSno': 207, 'eventCd': '28', 'failCnt': 49, 'succCnt': 174},\n",
       "  {'clubSno': 207, 'eventCd': '29', 'failCnt': 54, 'succCnt': 146},\n",
       "  {'clubSno': 207, 'eventCd': '30', 'failCnt': 2, 'succCnt': 4},\n",
       "  {'clubSno': 207, 'eventCd': '31', 'failCnt': 0, 'succCnt': 1},\n",
       "  {'clubSno': 207, 'eventCd': '34', 'failCnt': 4, 'succCnt': 6},\n",
       "  {'clubSno': 207, 'eventCd': '35', 'failCnt': 5, 'succCnt': 3},\n",
       "  {'clubSno': 207, 'eventCd': '37', 'failCnt': 0, 'succCnt': 27},\n",
       "  {'clubSno': 207, 'eventCd': '38', 'failCnt': 0, 'succCnt': 12},\n",
       "  {'clubSno': 207, 'eventCd': '45', 'failCnt': 0, 'succCnt': 2}],\n",
       " 'htMainEventList': [{'backno': '11',\n",
       "   'clubSno': 98,\n",
       "   'etc1': '선수교체',\n",
       "   'etc2': None,\n",
       "   'eventCd': '30',\n",
       "   'eventSno': 2190820,\n",
       "   'frame': 31363,\n",
       "   'halfGbnCd': '2',\n",
       "   'matchSno': 610,\n",
       "   'playerKorNm': '지동원',\n",
       "   'playerSno': 27,\n",
       "   'succYn': 'S',\n",
       "   'timeMinute': 17,\n",
       "   'timePercentage': 35,\n",
       "   'xpos': '264.0',\n",
       "   'ypos': '1.0'},\n",
       "  {'backno': '12',\n",
       "   'clubSno': 98,\n",
       "   'etc1': '선수교체',\n",
       "   'etc2': None,\n",
       "   'eventCd': '30',\n",
       "   'eventSno': 2190821,\n",
       "   'frame': 31363,\n",
       "   'halfGbnCd': '2',\n",
       "   'matchSno': 610,\n",
       "   'playerKorNm': '이재성',\n",
       "   'playerSno': 45,\n",
       "   'succYn': 'S',\n",
       "   'timeMinute': 17,\n",
       "   'timePercentage': 35,\n",
       "   'xpos': '264.0',\n",
       "   'ypos': '1.0'},\n",
       "  {'backno': '18',\n",
       "   'clubSno': 98,\n",
       "   'etc1': '선수교체',\n",
       "   'etc2': None,\n",
       "   'eventCd': '30',\n",
       "   'eventSno': 2190932,\n",
       "   'frame': 37800,\n",
       "   'halfGbnCd': '2',\n",
       "   'matchSno': 610,\n",
       "   'playerKorNm': '이정협',\n",
       "   'playerSno': 43,\n",
       "   'succYn': 'S',\n",
       "   'timeMinute': 21,\n",
       "   'timePercentage': 43,\n",
       "   'xpos': '264.0',\n",
       "   'ypos': '1.0'},\n",
       "  {'backno': '9',\n",
       "   'clubSno': 98,\n",
       "   'etc1': '선수교체',\n",
       "   'etc2': None,\n",
       "   'eventCd': '30',\n",
       "   'eventSno': 2190933,\n",
       "   'frame': 37800,\n",
       "   'halfGbnCd': '2',\n",
       "   'matchSno': 610,\n",
       "   'playerKorNm': '김신욱',\n",
       "   'playerSno': 77,\n",
       "   'succYn': 'S',\n",
       "   'timeMinute': 21,\n",
       "   'timePercentage': 43,\n",
       "   'xpos': '264.0',\n",
       "   'ypos': '1.0'},\n",
       "  {'backno': '10',\n",
       "   'clubSno': 98,\n",
       "   'etc1': '2^1^크로스골',\n",
       "   'etc2': None,\n",
       "   'eventCd': '31',\n",
       "   'eventSno': 2190951,\n",
       "   'frame': 38679,\n",
       "   'halfGbnCd': '2',\n",
       "   'matchSno': 610,\n",
       "   'playerKorNm': '남태희',\n",
       "   'playerSno': 30,\n",
       "   'succYn': 'S',\n",
       "   'timeMinute': 21,\n",
       "   'timePercentage': 44,\n",
       "   'xpos': '-5.84',\n",
       "   'ypos': '176.58'},\n",
       "  {'backno': '6',\n",
       "   'clubSno': 98,\n",
       "   'etc1': '선수교체',\n",
       "   'etc2': None,\n",
       "   'eventCd': '30',\n",
       "   'eventSno': 2191309,\n",
       "   'frame': 65359,\n",
       "   'halfGbnCd': '2',\n",
       "   'matchSno': 610,\n",
       "   'playerKorNm': '박주호',\n",
       "   'playerSno': 44,\n",
       "   'succYn': 'S',\n",
       "   'timeMinute': 36,\n",
       "   'timePercentage': 74,\n",
       "   'xpos': '262.80',\n",
       "   'ypos': '-4.32'},\n",
       "  {'backno': '3',\n",
       "   'clubSno': 98,\n",
       "   'etc1': '선수교체',\n",
       "   'etc2': None,\n",
       "   'eventCd': '30',\n",
       "   'eventSno': 2191310,\n",
       "   'frame': 65359,\n",
       "   'halfGbnCd': '2',\n",
       "   'matchSno': 610,\n",
       "   'playerKorNm': '홍철',\n",
       "   'playerSno': 58,\n",
       "   'succYn': 'S',\n",
       "   'timeMinute': 36,\n",
       "   'timePercentage': 74,\n",
       "   'xpos': '262.80',\n",
       "   'ypos': '-4.32'},\n",
       "  {'backno': '13',\n",
       "   'clubSno': 98,\n",
       "   'etc1': '2^3^콤비네이션',\n",
       "   'etc2': None,\n",
       "   'eventCd': '31',\n",
       "   'eventSno': 2191390,\n",
       "   'frame': 71711,\n",
       "   'halfGbnCd': '2',\n",
       "   'matchSno': 610,\n",
       "   'playerKorNm': '구자철',\n",
       "   'playerSno': 28,\n",
       "   'succYn': 'S',\n",
       "   'timeMinute': 39,\n",
       "   'timePercentage': 81,\n",
       "   'xpos': '-7.72',\n",
       "   'ypos': '160.00'},\n",
       "  {'backno': '9',\n",
       "   'clubSno': 98,\n",
       "   'etc1': '경고',\n",
       "   'etc2': None,\n",
       "   'eventCd': '03',\n",
       "   'eventSno': 2191445,\n",
       "   'frame': 78813,\n",
       "   'halfGbnCd': '2',\n",
       "   'matchSno': 610,\n",
       "   'playerKorNm': '김신욱',\n",
       "   'playerSno': 77,\n",
       "   'succYn': 'S',\n",
       "   'timeMinute': 43,\n",
       "   'timePercentage': 90,\n",
       "   'xpos': '220.00',\n",
       "   'ypos': '185.13'},\n",
       "  {'backno': '7',\n",
       "   'clubSno': 98,\n",
       "   'etc1': '경고',\n",
       "   'etc2': None,\n",
       "   'eventCd': '03',\n",
       "   'eventSno': 2191512,\n",
       "   'frame': 84462,\n",
       "   'halfGbnCd': '2',\n",
       "   'matchSno': 610,\n",
       "   'playerKorNm': '손흥민',\n",
       "   'playerSno': 34,\n",
       "   'succYn': 'S',\n",
       "   'timeMinute': 46,\n",
       "   'timePercentage': 96,\n",
       "   'xpos': '2.43',\n",
       "   'ypos': '9.79'}]}"
      ]
     },
     "execution_count": 6,
     "metadata": {},
     "output_type": "execute_result"
    }
   ],
   "source": [
    "match_event"
   ]
  },
  {
   "cell_type": "code",
   "execution_count": 18,
   "metadata": {
    "collapsed": true
   },
   "outputs": [],
   "source": [
    "data = {\n",
    "    \"matchSno\": \"610\",\n",
    "    \"ClubSno\": \"98\",\n",
    "    \"eventCd\": \"29\",\n",
    "    \"halfGbnCd\": \"1\"\n",
    "}\n",
    "\n",
    "url = \"http://www.kfamatch.or.kr/svc/rst/selectPassChartAjax.do\""
   ]
  },
  {
   "cell_type": "code",
   "execution_count": 19,
   "metadata": {
    "collapsed": true
   },
   "outputs": [],
   "source": [
    "res = requests.post(url, data=data)"
   ]
  },
  {
   "cell_type": "code",
   "execution_count": 20,
   "metadata": {
    "collapsed": false
   },
   "outputs": [
    {
     "data": {
      "text/plain": [
       "200"
      ]
     },
     "execution_count": 20,
     "metadata": {},
     "output_type": "execute_result"
    }
   ],
   "source": [
    "res.status_code"
   ]
  },
  {
   "cell_type": "code",
   "execution_count": 21,
   "metadata": {
    "collapsed": false
   },
   "outputs": [
    {
     "data": {
      "text/plain": [
       "{'passChartList': []}"
      ]
     },
     "execution_count": 21,
     "metadata": {},
     "output_type": "execute_result"
    }
   ],
   "source": [
    "res.json()"
   ]
  },
  {
   "cell_type": "code",
   "execution_count": 10,
   "metadata": {
    "collapsed": true
   },
   "outputs": [],
   "source": [
    "data = {\n",
    "    \"playerSno\": \"49\"\n",
    "}\n",
    "\n",
    "url = \"http://www.kfamatch.or.kr/svc/ply/selectPlayerDirectionPassData.do\""
   ]
  },
  {
   "cell_type": "code",
   "execution_count": 11,
   "metadata": {
    "collapsed": false
   },
   "outputs": [],
   "source": [
    "res = requests.post(url, data=data)"
   ]
  },
  {
   "cell_type": "code",
   "execution_count": 12,
   "metadata": {
    "collapsed": false
   },
   "outputs": [
    {
     "data": {
      "text/plain": [
       "200"
      ]
     },
     "execution_count": 12,
     "metadata": {},
     "output_type": "execute_result"
    }
   ],
   "source": [
    "res.status_code"
   ]
  },
  {
   "cell_type": "code",
   "execution_count": 26,
   "metadata": {
    "collapsed": true
   },
   "outputs": [],
   "source": [
    "data = {\n",
    "    \"matchSno\": \"610\"\n",
    "}\n",
    "\n",
    "url = \"http://www.kfamatch.or.kr/svc/rst/selectGoalPosDataAjax.do\""
   ]
  },
  {
   "cell_type": "code",
   "execution_count": 28,
   "metadata": {
    "collapsed": false
   },
   "outputs": [],
   "source": [
    "res = requests.post(url, data=data)"
   ]
  },
  {
   "cell_type": "code",
   "execution_count": 29,
   "metadata": {
    "collapsed": false
   },
   "outputs": [
    {
     "data": {
      "text/plain": [
       "{'goalInPostList': [{'clubSno': 98, 'goalLoc': '4', 'locCnt': 1},\n",
       "  {'clubSno': 98, 'goalLoc': '5', 'locCnt': 1},\n",
       "  {'clubSno': 207, 'goalLoc': '3', 'locCnt': 1}],\n",
       " 'goalPosList': [{'attckside': 'R',\n",
       "   'endXpos': 526.0,\n",
       "   'endYpos': 184.19,\n",
       "   'eventCd': '31',\n",
       "   'eventSno': 2189821,\n",
       "   'fromClubSno': 207,\n",
       "   'halfGbnCd': '1',\n",
       "   'homeGbnCd': 'H',\n",
       "   'matchSno': 610,\n",
       "   'playDy': '20161115',\n",
       "   'startXpos': 352.83,\n",
       "   'startYpos': 189.28,\n",
       "   'toPlayerSno': 4628},\n",
       "  {'attckside': 'L',\n",
       "   'endXpos': 526.0,\n",
       "   'endYpos': 176.58,\n",
       "   'eventCd': '31',\n",
       "   'eventSno': 2190951,\n",
       "   'fromClubSno': 98,\n",
       "   'halfGbnCd': '2',\n",
       "   'homeGbnCd': 'H',\n",
       "   'matchSno': 610,\n",
       "   'playDy': '20161115',\n",
       "   'startXpos': 519.02,\n",
       "   'startYpos': 177.61,\n",
       "   'toPlayerSno': 30},\n",
       "  {'attckside': 'L',\n",
       "   'endXpos': 526.0,\n",
       "   'endYpos': 160.0,\n",
       "   'eventCd': '31',\n",
       "   'eventSno': 2191390,\n",
       "   'fromClubSno': 98,\n",
       "   'halfGbnCd': '2',\n",
       "   'homeGbnCd': 'H',\n",
       "   'matchSno': 610,\n",
       "   'playDy': '20161115',\n",
       "   'startXpos': 468.51,\n",
       "   'startYpos': 143.43,\n",
       "   'toPlayerSno': 28}]}"
      ]
     },
     "execution_count": 29,
     "metadata": {},
     "output_type": "execute_result"
    }
   ],
   "source": [
    "res.json()"
   ]
  },
  {
   "cell_type": "code",
   "execution_count": null,
   "metadata": {
    "collapsed": true
   },
   "outputs": [],
   "source": []
  }
 ],
 "metadata": {
  "kernelspec": {
   "display_name": "Python 3",
   "language": "python",
   "name": "python3"
  },
  "language_info": {
   "codemirror_mode": {
    "name": "ipython",
    "version": 3
   },
   "file_extension": ".py",
   "mimetype": "text/x-python",
   "name": "python",
   "nbconvert_exporter": "python",
   "pygments_lexer": "ipython3",
   "version": "3.5.2"
  }
 },
 "nbformat": 4,
 "nbformat_minor": 0
}
