{
 "cells": [
  {
   "cell_type": "markdown",
   "metadata": {},
   "source": [
    "# json_crawling_ex"
   ]
  },
  {
   "cell_type": "code",
   "execution_count": 1,
   "metadata": {
    "collapsed": true
   },
   "outputs": [],
   "source": [
    "import requests\n",
    "import json"
   ]
  },
  {
   "cell_type": "code",
   "execution_count": 13,
   "metadata": {
    "collapsed": false
   },
   "outputs": [],
   "source": [
    "data = {\n",
    "    \"matchSno\": \"610\",\n",
    "    \"htClubSno\": \"98\",\n",
    "    \"atClubSno\": \"207\",\n",
    "    \"eventCd\": \"03,04,30,31,36\"\n",
    "}\n",
    "\n",
    "url = \"http://www.kfamatch.or.kr/svc/rst/selectMatchEventAjax.do\""
   ]
  },
  {
   "cell_type": "code",
   "execution_count": 14,
   "metadata": {
    "collapsed": false
   },
   "outputs": [],
   "source": [
    "res = requests.post(url, data=data)"
   ]
  },
  {
   "cell_type": "code",
   "execution_count": 15,
   "metadata": {
    "collapsed": false
   },
   "outputs": [
    {
     "data": {
      "text/plain": [
       "200"
      ]
     },
     "execution_count": 15,
     "metadata": {},
     "output_type": "execute_result"
    }
   ],
   "source": [
    "res.status_code"
   ]
  },
  {
   "cell_type": "code",
   "execution_count": 17,
   "metadata": {
    "collapsed": false
   },
   "outputs": [],
   "source": [
    "match_event = res.json()"
   ]
  },
  {
   "cell_type": "code",
   "execution_count": 18,
   "metadata": {
    "collapsed": true
   },
   "outputs": [],
   "source": [
    "data = {\n",
    "    \"matchSno\": \"610\",\n",
    "    \"ClubSno\": \"98\",\n",
    "    \"eventCd\": \"29\",\n",
    "    \"halfGbnCd\": \"1\"\n",
    "}\n",
    "\n",
    "url = \"http://www.kfamatch.or.kr/svc/rst/selectPassChartAjax.do\""
   ]
  },
  {
   "cell_type": "code",
   "execution_count": 19,
   "metadata": {
    "collapsed": true
   },
   "outputs": [],
   "source": [
    "res = requests.post(url, data=data)"
   ]
  },
  {
   "cell_type": "code",
   "execution_count": 20,
   "metadata": {
    "collapsed": false
   },
   "outputs": [
    {
     "data": {
      "text/plain": [
       "200"
      ]
     },
     "execution_count": 20,
     "metadata": {},
     "output_type": "execute_result"
    }
   ],
   "source": [
    "res.status_code"
   ]
  },
  {
   "cell_type": "code",
   "execution_count": 21,
   "metadata": {
    "collapsed": false
   },
   "outputs": [
    {
     "data": {
      "text/plain": [
       "{'passChartList': []}"
      ]
     },
     "execution_count": 21,
     "metadata": {},
     "output_type": "execute_result"
    }
   ],
   "source": [
    "res.json()"
   ]
  },
  {
   "cell_type": "code",
   "execution_count": 22,
   "metadata": {
    "collapsed": true
   },
   "outputs": [],
   "source": [
    "data = {\n",
    "    \"matchSno\": \"610\",\n",
    "    \"htClubSno\": \"98\",\n",
    "    \"atClubSno\": \"207\",\n",
    "    \"gubun\": \"1\",\n",
    "    \"eventCd\": \"29\"\n",
    "}\n",
    "\n",
    "url = \"http://www.kfamatch.or.kr/svc/rst/selectGameTimelineAjax.do\""
   ]
  },
  {
   "cell_type": "code",
   "execution_count": 23,
   "metadata": {
    "collapsed": true
   },
   "outputs": [],
   "source": [
    "res = requests.post(url, data=data)"
   ]
  },
  {
   "cell_type": "code",
   "execution_count": 24,
   "metadata": {
    "collapsed": false
   },
   "outputs": [
    {
     "data": {
      "text/plain": [
       "200"
      ]
     },
     "execution_count": 24,
     "metadata": {},
     "output_type": "execute_result"
    }
   ],
   "source": [
    "res.status_code"
   ]
  },
  {
   "cell_type": "code",
   "execution_count": 25,
   "metadata": {
    "collapsed": false
   },
   "outputs": [
    {
     "data": {
      "text/plain": [
       "{'atBallPoss': 37,\n",
       " 'atPassPer': [64.0,\n",
       "  71.0,\n",
       "  67.0,\n",
       "  71.0,\n",
       "  71.0,\n",
       "  76.0,\n",
       "  70.0,\n",
       "  85.0,\n",
       "  55.0,\n",
       "  0.0,\n",
       "  50.0,\n",
       "  100.0,\n",
       "  80.0,\n",
       "  91.0,\n",
       "  89.0,\n",
       "  73.0,\n",
       "  77.0,\n",
       "  88.0,\n",
       "  30.0,\n",
       "  100.0],\n",
       " 'atPassSucc': [7.0,\n",
       "  5.0,\n",
       "  4.0,\n",
       "  15.0,\n",
       "  10.0,\n",
       "  13.0,\n",
       "  14.0,\n",
       "  11.0,\n",
       "  6.0,\n",
       "  0.0,\n",
       "  1.0,\n",
       "  5.0,\n",
       "  8.0,\n",
       "  10.0,\n",
       "  8.0,\n",
       "  8.0,\n",
       "  10.0,\n",
       "  7.0,\n",
       "  3.0,\n",
       "  1.0],\n",
       " 'atPassTotal': [11.0,\n",
       "  7.0,\n",
       "  6.0,\n",
       "  21.0,\n",
       "  14.0,\n",
       "  17.0,\n",
       "  20.0,\n",
       "  13.0,\n",
       "  11.0,\n",
       "  0.0,\n",
       "  2.0,\n",
       "  5.0,\n",
       "  10.0,\n",
       "  11.0,\n",
       "  9.0,\n",
       "  11.0,\n",
       "  13.0,\n",
       "  8.0,\n",
       "  10.0,\n",
       "  1.0],\n",
       " 'htBallPoss': 63,\n",
       " 'htPassPer': [88.0,\n",
       "  89.0,\n",
       "  100.0,\n",
       "  83.0,\n",
       "  80.0,\n",
       "  88.0,\n",
       "  92.0,\n",
       "  84.0,\n",
       "  100.0,\n",
       "  100.0,\n",
       "  90.0,\n",
       "  93.0,\n",
       "  92.0,\n",
       "  95.0,\n",
       "  95.0,\n",
       "  94.0,\n",
       "  78.0,\n",
       "  100.0,\n",
       "  72.0,\n",
       "  100.0],\n",
       " 'htPassSucc': [38.0,\n",
       "  24.0,\n",
       "  50.0,\n",
       "  25.0,\n",
       "  24.0,\n",
       "  30.0,\n",
       "  45.0,\n",
       "  31.0,\n",
       "  22.0,\n",
       "  14.0,\n",
       "  36.0,\n",
       "  25.0,\n",
       "  55.0,\n",
       "  40.0,\n",
       "  40.0,\n",
       "  31.0,\n",
       "  25.0,\n",
       "  25.0,\n",
       "  13.0,\n",
       "  12.0],\n",
       " 'htPassTotal': [43.0,\n",
       "  27.0,\n",
       "  50.0,\n",
       "  30.0,\n",
       "  30.0,\n",
       "  34.0,\n",
       "  49.0,\n",
       "  37.0,\n",
       "  22.0,\n",
       "  14.0,\n",
       "  40.0,\n",
       "  27.0,\n",
       "  60.0,\n",
       "  42.0,\n",
       "  42.0,\n",
       "  33.0,\n",
       "  32.0,\n",
       "  25.0,\n",
       "  18.0,\n",
       "  12.0]}"
      ]
     },
     "execution_count": 25,
     "metadata": {},
     "output_type": "execute_result"
    }
   ],
   "source": [
    "res.json()"
   ]
  },
  {
   "cell_type": "code",
   "execution_count": 26,
   "metadata": {
    "collapsed": true
   },
   "outputs": [],
   "source": [
    "data = {\n",
    "    \"matchSno\": \"610\"\n",
    "}\n",
    "\n",
    "url = \"http://www.kfamatch.or.kr/svc/rst/selectGoalPosDataAjax.do\""
   ]
  },
  {
   "cell_type": "code",
   "execution_count": 28,
   "metadata": {
    "collapsed": false
   },
   "outputs": [],
   "source": [
    "res = requests.post(url, data=data)"
   ]
  },
  {
   "cell_type": "code",
   "execution_count": 29,
   "metadata": {
    "collapsed": false
   },
   "outputs": [
    {
     "data": {
      "text/plain": [
       "{'goalInPostList': [{'clubSno': 98, 'goalLoc': '4', 'locCnt': 1},\n",
       "  {'clubSno': 98, 'goalLoc': '5', 'locCnt': 1},\n",
       "  {'clubSno': 207, 'goalLoc': '3', 'locCnt': 1}],\n",
       " 'goalPosList': [{'attckside': 'R',\n",
       "   'endXpos': 526.0,\n",
       "   'endYpos': 184.19,\n",
       "   'eventCd': '31',\n",
       "   'eventSno': 2189821,\n",
       "   'fromClubSno': 207,\n",
       "   'halfGbnCd': '1',\n",
       "   'homeGbnCd': 'H',\n",
       "   'matchSno': 610,\n",
       "   'playDy': '20161115',\n",
       "   'startXpos': 352.83,\n",
       "   'startYpos': 189.28,\n",
       "   'toPlayerSno': 4628},\n",
       "  {'attckside': 'L',\n",
       "   'endXpos': 526.0,\n",
       "   'endYpos': 176.58,\n",
       "   'eventCd': '31',\n",
       "   'eventSno': 2190951,\n",
       "   'fromClubSno': 98,\n",
       "   'halfGbnCd': '2',\n",
       "   'homeGbnCd': 'H',\n",
       "   'matchSno': 610,\n",
       "   'playDy': '20161115',\n",
       "   'startXpos': 519.02,\n",
       "   'startYpos': 177.61,\n",
       "   'toPlayerSno': 30},\n",
       "  {'attckside': 'L',\n",
       "   'endXpos': 526.0,\n",
       "   'endYpos': 160.0,\n",
       "   'eventCd': '31',\n",
       "   'eventSno': 2191390,\n",
       "   'fromClubSno': 98,\n",
       "   'halfGbnCd': '2',\n",
       "   'homeGbnCd': 'H',\n",
       "   'matchSno': 610,\n",
       "   'playDy': '20161115',\n",
       "   'startXpos': 468.51,\n",
       "   'startYpos': 143.43,\n",
       "   'toPlayerSno': 28}]}"
      ]
     },
     "execution_count": 29,
     "metadata": {},
     "output_type": "execute_result"
    }
   ],
   "source": [
    "res.json()"
   ]
  },
  {
   "cell_type": "code",
   "execution_count": null,
   "metadata": {
    "collapsed": true
   },
   "outputs": [],
   "source": []
  }
 ],
 "metadata": {
  "kernelspec": {
   "display_name": "Python 3",
   "language": "python",
   "name": "python3"
  },
  "language_info": {
   "codemirror_mode": {
    "name": "ipython",
    "version": 3
   },
   "file_extension": ".py",
   "mimetype": "text/x-python",
   "name": "python",
   "nbconvert_exporter": "python",
   "pygments_lexer": "ipython3",
   "version": "3.5.2"
  }
 },
 "nbformat": 4,
 "nbformat_minor": 0
}
