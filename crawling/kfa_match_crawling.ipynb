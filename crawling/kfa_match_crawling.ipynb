{
 "cells": [
  {
   "cell_type": "code",
   "execution_count": 1,
   "metadata": {
    "collapsed": true
   },
   "outputs": [],
   "source": [
    "# kfamatch.or.kr ==> 크롤링\n",
    "\n",
    "# json post 방식, number를 바꿔가면서 데이터를 다 긁어모으자!\n",
    "\n",
    "# 그다음 어떤 분석을 진행해볼까?\n",
    "\n",
    "# real time 분석\n",
    "# 1) 어떤 선수를 교체해야할까? ==> 어떤 부분이 부족하지?\n",
    "# 2) 또는 현재 부족한 부분이 무엇인가?\n",
    "\n",
    "\n",
    "# neural network로 분석하기\n",
    "# 경기결과별로 인사이트 얻기\n",
    "# 승리의 영향을 끼치는 요인들을 분석하고, 이긴 경기와 패배한 경기 요인 분석 / 승리 무승부 패배 / log proba"
   ]
  },
  {
   "cell_type": "code",
   "execution_count": 2,
   "metadata": {
    "collapsed": true
   },
   "outputs": [],
   "source": [
    "# 경기결과를 바탕으로 real time 분석에 도움이 되어야 겟지\n",
    "# 우선 해야할것이 승리 무승부 패배 예측하는 모델을 만들어보자! 따라서 어떠한 변수가 가중치가 높게 나오는지 파악하고,\n",
    "# 그다음에는 "
   ]
  },
  {
   "cell_type": "code",
   "execution_count": 3,
   "metadata": {
    "collapsed": true
   },
   "outputs": [],
   "source": [
    "# 크롤링방식\n",
    "# 1. http://www.kfamatch.or.kr/svc/man/searchMainList.do 각 href의 matchId를 얻어내자!\n",
    "# 2. 만약 matchid로만으로도 불러오는것이 가능하다면 문제는 없다.\n",
    "\n",
    "# 단, matchID뿐 아니라 더 많은 것들이 필요하다면... 어떻게 풀어야 할까...\n"
   ]
  },
  {
   "cell_type": "code",
   "execution_count": 4,
   "metadata": {
    "collapsed": true
   },
   "outputs": [],
   "source": [
    "from bs4 import BeautifulSoup"
   ]
  },
  {
   "cell_type": "code",
   "execution_count": 5,
   "metadata": {
    "collapsed": true
   },
   "outputs": [],
   "source": [
    "import requests\n",
    "import time"
   ]
  },
  {
   "cell_type": "code",
   "execution_count": 6,
   "metadata": {
    "collapsed": false
   },
   "outputs": [
    {
     "ename": "NameError",
     "evalue": "name 'url' is not defined",
     "output_type": "error",
     "traceback": [
      "\u001b[0;31m---------------------------------------------------------------------------\u001b[0m",
      "\u001b[0;31mNameError\u001b[0m                                 Traceback (most recent call last)",
      "\u001b[0;32m<ipython-input-6-3e4673786a70>\u001b[0m in \u001b[0;36m<module>\u001b[0;34m()\u001b[0m\n\u001b[0;32m----> 1\u001b[0;31m \u001b[0mresponse\u001b[0m \u001b[0;34m=\u001b[0m \u001b[0mrequests\u001b[0m\u001b[0;34m.\u001b[0m\u001b[0mget\u001b[0m\u001b[0;34m(\u001b[0m\u001b[0murl\u001b[0m\u001b[0;34m)\u001b[0m\u001b[0;34m\u001b[0m\u001b[0m\n\u001b[0m",
      "\u001b[0;31mNameError\u001b[0m: name 'url' is not defined"
     ]
    }
   ],
   "source": [
    "response = requests.get(url)"
   ]
  },
  {
   "cell_type": "code",
   "execution_count": null,
   "metadata": {
    "collapsed": true
   },
   "outputs": [],
   "source": []
  }
 ],
 "metadata": {
  "kernelspec": {
   "display_name": "Python 3",
   "language": "python",
   "name": "python3"
  },
  "language_info": {
   "codemirror_mode": {
    "name": "ipython",
    "version": 3
   },
   "file_extension": ".py",
   "mimetype": "text/x-python",
   "name": "python",
   "nbconvert_exporter": "python",
   "pygments_lexer": "ipython3",
   "version": "3.5.2"
  }
 },
 "nbformat": 4,
 "nbformat_minor": 0
}
