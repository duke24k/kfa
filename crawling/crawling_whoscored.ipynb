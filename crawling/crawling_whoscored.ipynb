{
 "cells": [
  {
   "cell_type": "code",
   "execution_count": 1,
   "metadata": {
    "collapsed": true
   },
   "outputs": [],
   "source": [
    "import pandas as pd\n",
    "import time\n",
    "import pickle\n",
    "from selenium import webdriver\n",
    "import glob\n",
    "import os\n",
    "import csv"
   ]
  },
  {
   "cell_type": "code",
   "execution_count": 2,
   "metadata": {
    "collapsed": true
   },
   "outputs": [],
   "source": [
    "# create useful function\n",
    "def change_values(df):\n",
    "    \"\"\"\n",
    "    change dataframe values from \"-\" to 0\n",
    "    \"\"\"\n",
    "    mapping = {'-' : 0}\n",
    "    replace_dict = {}\n",
    "    for columns in df.columns:\n",
    "        replace_dict[columns] = mapping\n",
    "        \n",
    "    return df.replace(replace_dict)"
   ]
  },
  {
   "cell_type": "code",
   "execution_count": 17,
   "metadata": {
    "collapsed": true
   },
   "outputs": [],
   "source": [
    "def crawling_league_teams(team_id, api_delay_term=10):\n",
    "    \"\"\"\n",
    "    get league name and team name\n",
    "    \n",
    "    parameter ---------------------------------------------------------------\n",
    "    team_id : (int or str) team_id\n",
    "    api_delay_term = (optional) 5\n",
    "    \n",
    "    return ------------------------------------------------------------------\n",
    "    pandas dataframe columns=team_id, team_name\n",
    "    \"\"\"\n",
    "    \n",
    "    # connect webdriver\n",
    "    url = \"https://www.whoscored.com/Teams/\" + str(team_id)\n",
    "    driver = webdriver.PhantomJS()\n",
    "    driver.get(url)\n",
    "    \n",
    "    # wait get league team datas\n",
    "    time.sleep(api_delay_term) \n",
    "    \n",
    "    # make pandas dataframe\n",
    "    team_df = pd.DataFrame(columns=[\"team_id\", \"team_name\"])\n",
    "    \n",
    "    # get team data\n",
    "    teams = driver.find_elements_by_css_selector(\"#teams option\")\n",
    "    for team in teams:\n",
    "        team_name = team.text\n",
    "        print(team_name)\n",
    "        team_id = team.get_attribute(\"value\").split(\"/\")[2]\n",
    "        team_df.loc[len(team_df)] = {\"team_id\" : team_id, \"team_name\" : team_name }\n",
    "        \n",
    "    \n",
    "    return team_df"
   ]
  },
  {
   "cell_type": "code",
   "execution_count": 19,
   "metadata": {
    "collapsed": false
   },
   "outputs": [],
   "source": [
    "# connect webdriver\n",
    "url = \"https://www.whoscored.com/Regions/252/Tournaments/2/England-Premier-League\"\n",
    "driver = webdriver.PhantomJS()\n",
    "driver.get(url)\n",
    "    \n",
    "# wait get league team datas\n",
    "time.sleep(5) "
   ]
  },
  {
   "cell_type": "code",
   "execution_count": 20,
   "metadata": {
    "collapsed": false
   },
   "outputs": [],
   "source": [
    "table = driver.find_elements_by_css_selector(\"#standings-13796-content tr\")"
   ]
  },
  {
   "cell_type": "code",
   "execution_count": 21,
   "metadata": {
    "collapsed": false
   },
   "outputs": [
    {
     "data": {
      "text/plain": [
       "[]"
      ]
     },
     "execution_count": 21,
     "metadata": {},
     "output_type": "execute_result"
    }
   ],
   "source": [
    "for tr in table:\n",
    "    print"
   ]
  },
  {
   "cell_type": "code",
   "execution_count": null,
   "metadata": {
    "collapsed": true
   },
   "outputs": [],
   "source": []
  }
 ],
 "metadata": {
  "kernelspec": {
   "display_name": "Python 3",
   "language": "python",
   "name": "python3"
  },
  "language_info": {
   "codemirror_mode": {
    "name": "ipython",
    "version": 3
   },
   "file_extension": ".py",
   "mimetype": "text/x-python",
   "name": "python",
   "nbconvert_exporter": "python",
   "pygments_lexer": "ipython3",
   "version": "3.5.2"
  }
 },
 "nbformat": 4,
 "nbformat_minor": 0
}
