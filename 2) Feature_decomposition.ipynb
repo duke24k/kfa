{
 "cells": [
  {
   "cell_type": "markdown",
   "metadata": {},
   "source": [
    "## 2) Feature decomposition\n",
    "- 변수축소\n",
    "- LCY_COMPARE_WITH\n",
    "- PJH_COMPARE_WITH"
   ]
  },
  {
   "cell_type": "code",
   "execution_count": 1,
   "metadata": {
    "collapsed": false
   },
   "outputs": [
    {
     "name": "stderr",
     "output_type": "stream",
     "text": [
      "/usr/local/lib/python3.5/dist-packages/matplotlib/backends/backend_gtk3agg.py:18: UserWarning: The Gtk3Agg backend is known to not work on Python 3.x with pycairo. Try installing cairocffi.\n",
      "  \"The Gtk3Agg backend is known to not work on Python 3.x with pycairo. \"\n"
     ]
    }
   ],
   "source": [
    "import pandas as pd\n",
    "from sklearn.decomposition import PCA\n",
    "import numpy as np\n",
    "import seaborn as sns\n",
    "from matplotlib import pyplot as plt\n",
    "%matplotlib inline"
   ]
  },
  {
   "cell_type": "markdown",
   "metadata": {},
   "source": [
    "### 변수축소"
   ]
  },
  {
   "cell_type": "code",
   "execution_count": 33,
   "metadata": {
    "collapsed": false
   },
   "outputs": [],
   "source": [
    "player_df = pd.read_csv(\"./merged_player.csv\", index_col=0)\n",
    "\n",
    "# drop columns\n",
    "drop_column_list = ['Unnamed: 0.1', 'flag', 'full_time', 'half_time', 'league', 'mins', 'motm', 'name', 'player_number', 'position', 'ps_y', 'rating', 'team_name', 'labeled_league']\n",
    "player_df0 = player_df.drop(drop_column_list, axis=1)"
   ]
  },
  {
   "cell_type": "code",
   "execution_count": null,
   "metadata": {
    "collapsed": false
   },
   "outputs": [],
   "source": []
  },
  {
   "cell_type": "code",
   "execution_count": 34,
   "metadata": {
    "collapsed": false
   },
   "outputs": [
    {
     "data": {
      "text/plain": [
       "Index(['age', 'asists', 'avgp', 'aw', 'blocks', 'clear', 'crosses', 'disp',\n",
       "       'drb', 'fouled', 'fouls', 'goals', 'inter', 'keyp', 'longb', 'off',\n",
       "       'offsides', 'owng', 'ps_x', 'red', 'spg', 'tackles', 'tall', 'thrb',\n",
       "       'unstch', 'weight', 'yel'],\n",
       "      dtype='object')"
      ]
     },
     "execution_count": 34,
     "metadata": {},
     "output_type": "execute_result"
    }
   ],
   "source": [
    "player_df0.columns"
   ]
  },
  {
   "cell_type": "code",
   "execution_count": 35,
   "metadata": {
    "collapsed": false
   },
   "outputs": [
    {
     "data": {
      "text/plain": [
       "(3186, 27)"
      ]
     },
     "execution_count": 35,
     "metadata": {},
     "output_type": "execute_result"
    }
   ],
   "source": [
    "player_df0 = player_df0.fillna(0)\n",
    "X_allPlayer = player_df0.get_values()\n",
    "np.shape(X_allPlayer)"
   ]
  },
  {
   "cell_type": "code",
   "execution_count": 36,
   "metadata": {
    "collapsed": false
   },
   "outputs": [
    {
     "data": {
      "image/png": "[encoded data removed]",
      "text/plain": [
       "<matplotlib.figure.Figure at 0x7f4e252edc50>"
      ]
     },
     "metadata": {},
     "output_type": "display_data"
    }
   ],
   "source": [
    "# 성분수 결정 ==> 7개 결정!\n",
    "pca = PCA().fit(X_allPlayer)\n",
    "\n",
    "var = pca.explained_variance_\n",
    "cmap = sns.color_palette()\n",
    "# plt.figure(figsize=(150, 100))\n",
    "plt.bar(np.arange(1, len(var)+1), var/np.sum(var), align=\"center\", color=cmap[0])\n",
    "plt.step(np.arange(1, len(var)+1), np.cumsum(var)/np.sum(var), where=\"mid\", color=cmap[1])\n",
    "\n",
    "plt.show()"
   ]
  },
  {
   "cell_type": "code",
   "execution_count": 37,
   "metadata": {
    "collapsed": true
   },
   "outputs": [],
   "source": [
    "pca = PCA(n_components=7).fit(X_allPlayer)"
   ]
  },
  {
   "cell_type": "code",
   "execution_count": 38,
   "metadata": {
    "collapsed": false
   },
   "outputs": [
    {
     "data": {
      "text/plain": [
       "array([ 695.99249941,  380.9713845 ,   46.97868776,   27.28975604,\n",
       "         17.77198578,   15.17746886,    8.23557474])"
      ]
     },
     "execution_count": 38,
     "metadata": {},
     "output_type": "execute_result"
    }
   ],
   "source": [
    "pca.explained_variance_"
   ]
  },
  {
   "cell_type": "code",
   "execution_count": 39,
   "metadata": {
    "collapsed": false
   },
   "outputs": [
    {
     "data": {
      "text/plain": [
       "array([ 0.57752377,  0.31612414,  0.03898219,  0.02264462,  0.01474692,\n",
       "        0.01259403,  0.00683375])"
      ]
     },
     "execution_count": 39,
     "metadata": {},
     "output_type": "execute_result"
    }
   ],
   "source": [
    "pca.explained_variance_ratio_"
   ]
  },
  {
   "cell_type": "markdown",
   "metadata": {},
   "source": [
    "### LCY_COMPARE_WITH"
   ]
  },
  {
   "cell_type": "code",
   "execution_count": 40,
   "metadata": {
    "collapsed": false
   },
   "outputs": [],
   "source": [
    "LCY = pd.read_csv(\"./data/LCY.csv\")\n",
    "LCY_COMPARE_WITH = pd.read_csv(\"./data/LCY_COMPARE_WITH.csv\")"
   ]
  },
  {
   "cell_type": "code",
   "execution_count": 41,
   "metadata": {
    "collapsed": false
   },
   "outputs": [
    {
     "data": {
      "text/plain": [
       "Index(['Unnamed: 0', 'age', 'asists', 'avgp', 'aw', 'blocks', 'clear',\n",
       "       'crosses', 'disp', 'drb', 'fouled', 'fouls', 'goals', 'inter', 'keyp',\n",
       "       'league', 'longb', 'mins', 'motm', 'name', 'off', 'offsides', 'owng',\n",
       "       'position', 'ps_x', 'red', 'spg', 'tackles', 'tall', 'thrb', 'unstch',\n",
       "       'weight', 'yel'],\n",
       "      dtype='object')"
      ]
     },
     "execution_count": 41,
     "metadata": {},
     "output_type": "execute_result"
    }
   ],
   "source": [
    "LCY.columns"
   ]
  },
  {
   "cell_type": "code",
   "execution_count": 42,
   "metadata": {
    "collapsed": false
   },
   "outputs": [],
   "source": [
    "LCY0 = LCY.drop(['Unnamed: 0', 'league', 'name', 'mins', 'motm', 'position'], axis=1)"
   ]
  },
  {
   "cell_type": "code",
   "execution_count": 43,
   "metadata": {
    "collapsed": false
   },
   "outputs": [
    {
     "data": {
      "text/plain": [
       "27"
      ]
     },
     "execution_count": 43,
     "metadata": {},
     "output_type": "execute_result"
    }
   ],
   "source": [
    "len(LCY0.columns)"
   ]
  },
  {
   "cell_type": "code",
   "execution_count": 44,
   "metadata": {
    "collapsed": false
   },
   "outputs": [],
   "source": [
    "drop_column_list = ['Unnamed: 0', 'flag', 'full_time', 'half_time', 'league', 'mins', 'motm', 'name', 'player_number', 'position', 'ps_y', 'rating', 'team_name', 'labeled_league']\n",
    "\n",
    "LCY_COMPARE_WITH0 = LCY_COMPARE_WITH.drop(drop_column_list, axis=1)"
   ]
  },
  {
   "cell_type": "code",
   "execution_count": 46,
   "metadata": {
    "collapsed": false
   },
   "outputs": [
    {
     "data": {
      "text/plain": [
       "27"
      ]
     },
     "execution_count": 46,
     "metadata": {},
     "output_type": "execute_result"
    }
   ],
   "source": [
    "len(LCY_COMPARE_WITH0.columns)"
   ]
  },
  {
   "cell_type": "code",
   "execution_count": 47,
   "metadata": {
    "collapsed": true
   },
   "outputs": [],
   "source": [
    "X_LCY = LCY0.get_values()\n",
    "X_LCY_COMPARE_WITH = LCY_COMPARE_WITH0.get_values()"
   ]
  },
  {
   "cell_type": "code",
   "execution_count": 49,
   "metadata": {
    "collapsed": true
   },
   "outputs": [],
   "source": [
    "transformed_LCY = pca.transform(X_LCY)"
   ]
  },
  {
   "cell_type": "code",
   "execution_count": 48,
   "metadata": {
    "collapsed": false
   },
   "outputs": [],
   "source": [
    "transformed_LCY_COMPARE_WITH = pca.transform(X_LCY_COMPARE_WITH)"
   ]
  },
  {
   "cell_type": "code",
   "execution_count": 50,
   "metadata": {
    "collapsed": false
   },
   "outputs": [
    {
     "data": {
      "text/plain": [
       "array([[  0.51927936,  16.11861541,   0.64944734,   0.59248726,\n",
       "          0.28154406,   1.79535099,   3.73983964]])"
      ]
     },
     "execution_count": 50,
     "metadata": {},
     "output_type": "execute_result"
    }
   ],
   "source": [
    "np.abs(transformed_LCY)"
   ]
  },
  {
   "cell_type": "code",
   "execution_count": 51,
   "metadata": {
    "collapsed": false
   },
   "outputs": [
    {
     "data": {
      "text/plain": [
       "array([[ 14.07420529,  36.32351535,   0.47545725,  35.51264161,\n",
       "          5.33981807,   2.96216184,   2.75838866],\n",
       "       [  2.24751351,  33.83841964,   3.8034627 ,  37.79956742,\n",
       "          1.35178179,   0.04435195,   4.04151301]])"
      ]
     },
     "execution_count": 51,
     "metadata": {},
     "output_type": "execute_result"
    }
   ],
   "source": [
    "np.abs(transformed_LCY_COMPARE_WITH)"
   ]
  },
  {
   "cell_type": "code",
   "execution_count": 52,
   "metadata": {
    "collapsed": true
   },
   "outputs": [],
   "source": [
    "# cosine 유사도 측정\n",
    "from sklearn.metrics.pairwise import cosine_similarity"
   ]
  },
  {
   "cell_type": "code",
   "execution_count": 53,
   "metadata": {
    "collapsed": false
   },
   "outputs": [
    {
     "data": {
      "text/plain": [
       "array([[-0.63746788],\n",
       "       [-0.59802436]])"
      ]
     },
     "execution_count": 53,
     "metadata": {},
     "output_type": "execute_result"
    }
   ],
   "source": [
    "cosine_similarity(transformed_LCY_COMPARE_WITH, transformed_LCY)"
   ]
  },
  {
   "cell_type": "markdown",
   "metadata": {},
   "source": [
    "### PJH_COMPARE_WITH"
   ]
  },
  {
   "cell_type": "code",
   "execution_count": 54,
   "metadata": {
    "collapsed": true
   },
   "outputs": [],
   "source": [
    "PJH = pd.read_csv(\"./data/PJH.csv\")\n",
    "PJH_COMPARE_WITH = pd.read_csv(\"./data/PJH_COMPARE_WITH.csv\")"
   ]
  },
  {
   "cell_type": "code",
   "execution_count": 55,
   "metadata": {
    "collapsed": false
   },
   "outputs": [],
   "source": [
    "PJH0 = PJH.drop(['Unnamed: 0', 'league', 'position', 'team_name'], axis=1)"
   ]
  },
  {
   "cell_type": "code",
   "execution_count": 56,
   "metadata": {
    "collapsed": false
   },
   "outputs": [
    {
     "data": {
      "text/plain": [
       "27"
      ]
     },
     "execution_count": 56,
     "metadata": {},
     "output_type": "execute_result"
    }
   ],
   "source": [
    "len(PJH0.columns)"
   ]
  },
  {
   "cell_type": "code",
   "execution_count": 57,
   "metadata": {
    "collapsed": true
   },
   "outputs": [],
   "source": [
    "drop_column_list = ['Unnamed: 0', 'flag', 'full_time', 'half_time', 'league', 'mins', 'motm', 'name', 'player_number', 'position', 'ps_y', 'rating', 'team_name', 'labeled_league']\n",
    "\n",
    "PJH_COMPARE_WITH0 = PJH_COMPARE_WITH.drop(drop_column_list, axis=1)"
   ]
  },
  {
   "cell_type": "code",
   "execution_count": 58,
   "metadata": {
    "collapsed": false
   },
   "outputs": [
    {
     "data": {
      "text/plain": [
       "27"
      ]
     },
     "execution_count": 58,
     "metadata": {},
     "output_type": "execute_result"
    }
   ],
   "source": [
    "len(PJH_COMPARE_WITH0.columns)"
   ]
  },
  {
   "cell_type": "code",
   "execution_count": 62,
   "metadata": {
    "collapsed": false
   },
   "outputs": [
    {
     "name": "stderr",
     "output_type": "stream",
     "text": [
      "/usr/local/lib/python3.5/dist-packages/sklearn/utils/validation.py:386: DeprecationWarning: Passing 1d arrays as data is deprecated in 0.17 and willraise ValueError in 0.19. Reshape your data either using X.reshape(-1, 1) if your data has a single feature or X.reshape(1, -1) if it contains a single sample.\n",
      "  DeprecationWarning)\n"
     ]
    }
   ],
   "source": [
    "X_PJH = PJH0.mean().get_values()\n",
    "X_PJH_COMPARE_WITH = PJH_COMPARE_WITH0.get_values()\n",
    "\n",
    "transformed_PJH = pca.transform(X_PJH)\n",
    "transformed_PJH_COMPARE_WITH = pca.transform(X_PJH_COMPARE_WITH)"
   ]
  },
  {
   "cell_type": "code",
   "execution_count": 63,
   "metadata": {
    "collapsed": false
   },
   "outputs": [
    {
     "data": {
      "text/plain": [
       "(array([[  5.78123037,  19.42957803,   2.26554085,   0.99757888,\n",
       "           2.88328926,   3.36421384,   2.16806152]]),\n",
       " array([[  2.83580987e+00,   1.94586679e+00,   2.60423986e+00,\n",
       "           2.08802659e+01,   3.19546356e+00,   9.08113832e-01,\n",
       "           2.69215446e-02],\n",
       "        [  2.14695262e+00,   9.84624200e+00,   6.50365578e-01,\n",
       "           2.76559022e+01,   6.21758334e+00,   1.20999868e+00,\n",
       "           4.66651788e+00]]))"
      ]
     },
     "execution_count": 63,
     "metadata": {},
     "output_type": "execute_result"
    }
   ],
   "source": [
    "np.abs(transformed_PJH), np.abs(transformed_PJH_COMPARE_WITH)"
   ]
  },
  {
   "cell_type": "code",
   "execution_count": 64,
   "metadata": {
    "collapsed": false
   },
   "outputs": [
    {
     "data": {
      "text/plain": [
       "array([[-0.08778883],\n",
       "       [-0.18846374]])"
      ]
     },
     "execution_count": 64,
     "metadata": {},
     "output_type": "execute_result"
    }
   ],
   "source": [
    "cosine_similarity(transformed_PJH_COMPARE_WITH, transformed_PJH)"
   ]
  },
  {
   "cell_type": "markdown",
   "metadata": {},
   "source": [
    "### labeling league"
   ]
  },
  {
   "cell_type": "code",
   "execution_count": null,
   "metadata": {
    "collapsed": true
   },
   "outputs": [],
   "source": [
    "def labeling_league(x):\n",
    "    if x == \"Bundesliga\":\n",
    "        x = 0\n",
    "        \n",
    "    if x == \"Ligue1\":\n",
    "        x = 1\n",
    "        \n",
    "    if x == \"SerieA\":\n",
    "        x = 2\n",
    "        \n",
    "    if x == \"PremierLeague\":\n",
    "        x = 3\n",
    "        \n",
    "    if x == \"LaLiga\":\n",
    "        x = 4\n",
    "        \n",
    "    if x == \"Eredivisie\":\n",
    "        x = 5\n",
    "        \n",
    "    return x"
   ]
  },
  {
   "cell_type": "code",
   "execution_count": null,
   "metadata": {
    "collapsed": false
   },
   "outputs": [],
   "source": [
    "transformed_all_player = pca.transform(X_allPlayer)"
   ]
  },
  {
   "cell_type": "code",
   "execution_count": null,
   "metadata": {
    "collapsed": true
   },
   "outputs": [],
   "source": [
    "player_df = pd.read_csv(\"./merged_player.csv\", index_col=0)"
   ]
  },
  {
   "cell_type": "code",
   "execution_count": null,
   "metadata": {
    "collapsed": false
   },
   "outputs": [],
   "source": [
    "player_df['labeled_league'] = player_df['league'].apply(lambda x: labeling_league(x))"
   ]
  },
  {
   "cell_type": "code",
   "execution_count": null,
   "metadata": {
    "collapsed": false
   },
   "outputs": [],
   "source": [
    "player_df.to_csv('./merged_player.csv')"
   ]
  },
  {
   "cell_type": "code",
   "execution_count": null,
   "metadata": {
    "collapsed": true
   },
   "outputs": [],
   "source": []
  }
 ],
 "metadata": {
  "kernelspec": {
   "display_name": "Python 3",
   "language": "python",
   "name": "python3"
  },
  "language_info": {
   "codemirror_mode": {
    "name": "ipython",
    "version": 3
   },
   "file_extension": ".py",
   "mimetype": "text/x-python",
   "name": "python",
   "nbconvert_exporter": "python",
   "pygments_lexer": "ipython3",
   "version": "3.5.2"
  }
 },
 "nbformat": 4,
 "nbformat_minor": 0
}
