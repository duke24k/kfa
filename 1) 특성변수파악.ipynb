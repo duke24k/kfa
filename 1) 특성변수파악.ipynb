{
 "cells": [
  {
   "cell_type": "markdown",
   "metadata": {},
   "source": [
    "# 특성변수 파악하기"
   ]
  },
  {
   "cell_type": "code",
   "execution_count": 1,
   "metadata": {
    "collapsed": true
   },
   "outputs": [],
   "source": [
    "import pandas as pd"
   ]
  },
  {
   "cell_type": "markdown",
   "metadata": {},
   "source": [
    "### 1) 데이터 전처리\n",
    "- 포지션 나누기\n",
    "- 리그 라벨링"
   ]
  },
  {
   "cell_type": "markdown",
   "metadata": {},
   "source": [
    "#### 포지션 나누기"
   ]
  },
  {
   "cell_type": "code",
   "execution_count": 2,
   "metadata": {
    "collapsed": false
   },
   "outputs": [
    {
     "data": {
      "text/plain": [
       "Index(['age', 'asists', 'avgp', 'aw', 'blocks', 'clear', 'crosses', 'disp',\n",
       "       'drb', 'flag', 'fouled', 'fouls', 'full_time', 'goals', 'half_time',\n",
       "       'inter', 'keyp', 'league', 'longb', 'mins', 'motm', 'name', 'off',\n",
       "       'offsides', 'owng', 'player_number', 'position', 'ps_x', 'ps_y',\n",
       "       'rating', 'red', 'spg', 'tackles', 'tall', 'team_name', 'thrb',\n",
       "       'unstch', 'weight', 'yel'],\n",
       "      dtype='object')"
      ]
     },
     "execution_count": 2,
     "metadata": {},
     "output_type": "execute_result"
    }
   ],
   "source": [
    "total_player_df = pd.read_csv(\"./merged_player.csv\", encoding='utf-8')\n",
    "total_player_df = total_player_df.drop(['Unnamed: 0', 'Unnamed: 0.1'], axis=1)\n",
    "total_player_df.columns"
   ]
  },
  {
   "cell_type": "code",
   "execution_count": 3,
   "metadata": {
    "collapsed": false
   },
   "outputs": [
    {
     "data": {
      "text/plain": [
       "(array([' FW', ' AM(LR),FW', ' D(R),M(R)', ' AM(LR)', ' D(C)', ' M(C),FW',\n",
       "        ' D(LR)', ' M(CR)', ' D(L)', ' D(C),M(C)', ' GK', ' M(CLR)',\n",
       "        ' D(C),DMC', ' D(R)', ' Defender', ' D(C),M(CR)', ' M(C)',\n",
       "        ' AM(CL)', ' AM(C)', ' D(L),M(L)', ' Midfielder', ' AM(CLR)',\n",
       "        ' D(R),M(LR)', ' M(LR)', ' M(LR),FW', ' D(R),M(C)', ' M(CR),FW',\n",
       "        ' AM(CLR),FW', ' AM(CR),FW', ' Forward', ' M(CLR),FW', ' DMC',\n",
       "        ' M(CL)', ' D(CLR)', ' D(L),M(CL)', ' AM(L),FW', ' M(R)',\n",
       "        ' Goalkeeper', ' AM(R),FW', ' D(LR),M(CR)', ' AM(L)', ' AM(C),FW',\n",
       "        ' AM(CL),FW', ' AM(R)', ' D(L),DMC', ' D(CR)', ' D(CR),DMC',\n",
       "        ' D(LR),M(C)', ' D(R),M(CR)', ' D(CL),M(L)', ' D(R),DMC',\n",
       "        ' DMC,M(L)', ' D(CL)', ' AM(CR)', ' D(LR),M(CLR)', ' D(LR),M(R)',\n",
       "        ' D(R),M(CLR)', ' M(L)', ' D(LR),M(LR)', ' D(CL),DMC', ' D(LR),DMC',\n",
       "        ' D(CLR),M(R)', ' D(CL),M(C)', ' D(LR),M(L)', ' M(R),FW',\n",
       "        ' D(L),M(LR)', ' D(L),DMC,M(L)', ' D(R),DMC,M(R)', ' D(CR),M(R)',\n",
       "        ' M(CL),FW', ' D(L),M(CLR)', ' D(C),M(R)', ' D(C),M(L)', ' M(L),FW',\n",
       "        ' DMC,M(R)', ' D(CL),M(R)', ' D(CLR),DMC', ' D(L),DMC,M(R)',\n",
       "        ' D(L),M(LR),FW', ' D(R),M(CLR),FW', ' D(CL),DMC,M(L)',\n",
       "        ' D(CLR),M(LR)', ' D(L),M(C)', ' D(L),M(R)', ' D(C),M(CLR)',\n",
       "        ' midfielder'], dtype=object), 86)"
      ]
     },
     "execution_count": 3,
     "metadata": {},
     "output_type": "execute_result"
    }
   ],
   "source": [
    "# 포지션 확인\n",
    "total_player_df['position'].unique(), len(total_player_df['position'].unique())"
   ]
  },
  {
   "cell_type": "code",
   "execution_count": 4,
   "metadata": {
    "collapsed": true
   },
   "outputs": [],
   "source": [
    "total_player_df[\"position\"] = total_player_df[\"position\"].apply(lambda x: x.strip())"
   ]
  },
  {
   "cell_type": "code",
   "execution_count": 5,
   "metadata": {
    "collapsed": true
   },
   "outputs": [],
   "source": [
    "forward_pos = []\n",
    "mid_pos = []\n",
    "defense_pos = []\n",
    "\n",
    "for position in total_player_df[\"position\"].unique():\n",
    "    \n",
    "    \n",
    "    if position.find(\"F\") == 0:\n",
    "        forward_pos.append(position)\n",
    "        \n",
    "    if position.find(\"A\") == 0:\n",
    "        forward_pos.append(position)\n",
    "        \n",
    "    if position.find(\"M\") == 0:\n",
    "        mid_pos.append(position)\n",
    "        \n",
    "    if position.find(\"D\") == 0:\n",
    "        defense_pos.append(position)"
   ]
  },
  {
   "cell_type": "code",
   "execution_count": 6,
   "metadata": {
    "collapsed": true
   },
   "outputs": [],
   "source": [
    "forward_df = pd.DataFrame(columns=total_player_df.columns)\n",
    "\n",
    "for position in forward_pos:\n",
    "    f_df = total_player_df[total_player_df[\"position\"] == position]\n",
    "    forward_df = pd.concat([forward_df, f_df])\n",
    "    \n",
    "mid_df = pd.DataFrame(columns=total_player_df.columns)\n",
    "\n",
    "for position in mid_pos:\n",
    "    m_df = total_player_df[total_player_df[\"position\"] == position]\n",
    "    mid_df = pd.concat([mid_df, m_df])\n",
    "    \n",
    "defense_df = pd.DataFrame(columns=total_player_df.columns)\n",
    "\n",
    "for position in defense_pos:\n",
    "    d_df = total_player_df[total_player_df[\"position\"] == position]\n",
    "    defense_df = pd.concat([defense_df, d_df])"
   ]
  },
  {
   "cell_type": "markdown",
   "metadata": {},
   "source": [
    "#### 리그 라벨링"
   ]
  },
  {
   "cell_type": "code",
   "execution_count": 7,
   "metadata": {
    "collapsed": true
   },
   "outputs": [],
   "source": [
    "def labeling_league(x):\n",
    "    if x == \"Bundesliga\":\n",
    "        x = 0\n",
    "        \n",
    "    if x == \"Ligue1\":\n",
    "        x = 1\n",
    "        \n",
    "    if x == \"SerieA\":\n",
    "        x = 2\n",
    "        \n",
    "    if x == \"PremierLeague\":\n",
    "        x = 3\n",
    "        \n",
    "    if x == \"LaLiga\":\n",
    "        x = 4\n",
    "        \n",
    "    if x == \"Eredivisie\":\n",
    "        x = 5\n",
    "        \n",
    "    return x"
   ]
  },
  {
   "cell_type": "code",
   "execution_count": 8,
   "metadata": {
    "collapsed": true
   },
   "outputs": [],
   "source": [
    "forward_df['labeled_league'] = forward_df['league'].apply(lambda x: labeling_league(x))\n",
    "mid_df['labeled_league'] = mid_df['league'].apply(lambda x: labeling_league(x))\n",
    "defense_df['labeled_league'] = defense_df['league'].apply(lambda x: labeling_league(x))"
   ]
  },
  {
   "cell_type": "code",
   "execution_count": 9,
   "metadata": {
    "collapsed": true
   },
   "outputs": [],
   "source": [
    "forward_df.to_csv('./data/forward.csv')\n",
    "mid_df.to_csv('./data/mid.csv')\n",
    "defense_df.to_csv('./data/defense.csv')"
   ]
  },
  {
   "cell_type": "markdown",
   "metadata": {},
   "source": [
    "### 2) 리그별 특성변수 분석"
   ]
  },
  {
   "cell_type": "markdown",
   "metadata": {},
   "source": [
    "#### 포워드"
   ]
  },
  {
   "cell_type": "code",
   "execution_count": 10,
   "metadata": {
    "collapsed": false
   },
   "outputs": [
    {
     "data": {
      "text/html": [
       "<div>\n",
       "<table border=\"1\" class=\"dataframe\">\n",
       "  <thead>\n",
       "    <tr style=\"text-align: right;\">\n",
       "      <th></th>\n",
       "      <th>age</th>\n",
       "      <th>asists</th>\n",
       "      <th>avgp</th>\n",
       "      <th>aw</th>\n",
       "      <th>blocks</th>\n",
       "      <th>clear</th>\n",
       "      <th>crosses</th>\n",
       "      <th>disp</th>\n",
       "      <th>drb</th>\n",
       "      <th>fouled</th>\n",
       "      <th>...</th>\n",
       "      <th>rating</th>\n",
       "      <th>red</th>\n",
       "      <th>spg</th>\n",
       "      <th>tackles</th>\n",
       "      <th>tall</th>\n",
       "      <th>thrb</th>\n",
       "      <th>unstch</th>\n",
       "      <th>weight</th>\n",
       "      <th>yel</th>\n",
       "      <th>labeled_league</th>\n",
       "    </tr>\n",
       "    <tr>\n",
       "      <th>league</th>\n",
       "      <th></th>\n",
       "      <th></th>\n",
       "      <th></th>\n",
       "      <th></th>\n",
       "      <th></th>\n",
       "      <th></th>\n",
       "      <th></th>\n",
       "      <th></th>\n",
       "      <th></th>\n",
       "      <th></th>\n",
       "      <th></th>\n",
       "      <th></th>\n",
       "      <th></th>\n",
       "      <th></th>\n",
       "      <th></th>\n",
       "      <th></th>\n",
       "      <th></th>\n",
       "      <th></th>\n",
       "      <th></th>\n",
       "      <th></th>\n",
       "      <th></th>\n",
       "    </tr>\n",
       "  </thead>\n",
       "  <tbody>\n",
       "    <tr>\n",
       "      <th>Bundesliga</th>\n",
       "      <td>25.430769</td>\n",
       "      <td>1.715385</td>\n",
       "      <td>0.748462</td>\n",
       "      <td>1.400769</td>\n",
       "      <td>0.045385</td>\n",
       "      <td>0.320769</td>\n",
       "      <td>68.439231</td>\n",
       "      <td>0.910769</td>\n",
       "      <td>0.475385</td>\n",
       "      <td>0.980769</td>\n",
       "      <td>...</td>\n",
       "      <td>6.606538</td>\n",
       "      <td>0.061538</td>\n",
       "      <td>1.280000</td>\n",
       "      <td>0.693846</td>\n",
       "      <td>182.584615</td>\n",
       "      <td>0.545385</td>\n",
       "      <td>1.124615</td>\n",
       "      <td>76.946154</td>\n",
       "      <td>1.838462</td>\n",
       "      <td>0</td>\n",
       "    </tr>\n",
       "    <tr>\n",
       "      <th>Eredivisie</th>\n",
       "      <td>23.497175</td>\n",
       "      <td>1.949153</td>\n",
       "      <td>0.850282</td>\n",
       "      <td>0.905650</td>\n",
       "      <td>0.051977</td>\n",
       "      <td>0.418644</td>\n",
       "      <td>72.550282</td>\n",
       "      <td>1.074576</td>\n",
       "      <td>0.459322</td>\n",
       "      <td>0.994915</td>\n",
       "      <td>...</td>\n",
       "      <td>6.607571</td>\n",
       "      <td>0.062147</td>\n",
       "      <td>1.348588</td>\n",
       "      <td>0.702260</td>\n",
       "      <td>174.248588</td>\n",
       "      <td>0.722599</td>\n",
       "      <td>1.406780</td>\n",
       "      <td>71.322034</td>\n",
       "      <td>1.644068</td>\n",
       "      <td>5</td>\n",
       "    </tr>\n",
       "    <tr>\n",
       "      <th>LaLiga</th>\n",
       "      <td>25.489510</td>\n",
       "      <td>2.363636</td>\n",
       "      <td>0.777622</td>\n",
       "      <td>0.811888</td>\n",
       "      <td>0.051748</td>\n",
       "      <td>0.321678</td>\n",
       "      <td>74.022378</td>\n",
       "      <td>1.143357</td>\n",
       "      <td>0.418881</td>\n",
       "      <td>1.038462</td>\n",
       "      <td>...</td>\n",
       "      <td>6.609580</td>\n",
       "      <td>0.076923</td>\n",
       "      <td>1.311189</td>\n",
       "      <td>0.757343</td>\n",
       "      <td>177.076923</td>\n",
       "      <td>0.541259</td>\n",
       "      <td>1.279021</td>\n",
       "      <td>72.594406</td>\n",
       "      <td>2.804196</td>\n",
       "      <td>4</td>\n",
       "    </tr>\n",
       "    <tr>\n",
       "      <th>Ligue1</th>\n",
       "      <td>24.373418</td>\n",
       "      <td>1.689873</td>\n",
       "      <td>0.698101</td>\n",
       "      <td>0.959494</td>\n",
       "      <td>0.043038</td>\n",
       "      <td>0.293671</td>\n",
       "      <td>73.575949</td>\n",
       "      <td>1.267722</td>\n",
       "      <td>0.512025</td>\n",
       "      <td>0.922152</td>\n",
       "      <td>...</td>\n",
       "      <td>6.583671</td>\n",
       "      <td>0.164557</td>\n",
       "      <td>1.276582</td>\n",
       "      <td>0.729114</td>\n",
       "      <td>172.886076</td>\n",
       "      <td>0.528481</td>\n",
       "      <td>1.446835</td>\n",
       "      <td>70.658228</td>\n",
       "      <td>1.892405</td>\n",
       "      <td>1</td>\n",
       "    </tr>\n",
       "    <tr>\n",
       "      <th>PremierLeague</th>\n",
       "      <td>25.570470</td>\n",
       "      <td>1.637584</td>\n",
       "      <td>0.681208</td>\n",
       "      <td>0.963087</td>\n",
       "      <td>0.048993</td>\n",
       "      <td>0.367114</td>\n",
       "      <td>74.632215</td>\n",
       "      <td>1.095302</td>\n",
       "      <td>0.467114</td>\n",
       "      <td>0.766443</td>\n",
       "      <td>...</td>\n",
       "      <td>6.550940</td>\n",
       "      <td>0.080537</td>\n",
       "      <td>1.200000</td>\n",
       "      <td>0.672483</td>\n",
       "      <td>178.476510</td>\n",
       "      <td>0.444295</td>\n",
       "      <td>1.265772</td>\n",
       "      <td>72.912752</td>\n",
       "      <td>1.288591</td>\n",
       "      <td>3</td>\n",
       "    </tr>\n",
       "    <tr>\n",
       "      <th>SerieA</th>\n",
       "      <td>26.171779</td>\n",
       "      <td>1.944785</td>\n",
       "      <td>0.788344</td>\n",
       "      <td>0.811043</td>\n",
       "      <td>0.063804</td>\n",
       "      <td>0.368712</td>\n",
       "      <td>73.807692</td>\n",
       "      <td>1.069939</td>\n",
       "      <td>0.552761</td>\n",
       "      <td>1.123926</td>\n",
       "      <td>...</td>\n",
       "      <td>6.585337</td>\n",
       "      <td>0.171779</td>\n",
       "      <td>1.423926</td>\n",
       "      <td>0.738037</td>\n",
       "      <td>179.190184</td>\n",
       "      <td>0.623718</td>\n",
       "      <td>1.331288</td>\n",
       "      <td>73.711656</td>\n",
       "      <td>2.619632</td>\n",
       "      <td>2</td>\n",
       "    </tr>\n",
       "  </tbody>\n",
       "</table>\n",
       "<p>6 rows × 35 columns</p>\n",
       "</div>"
      ],
      "text/plain": [
       "                     age    asists      avgp        aw    blocks     clear  \\\n",
       "league                                                                       \n",
       "Bundesliga     25.430769  1.715385  0.748462  1.400769  0.045385  0.320769   \n",
       "Eredivisie     23.497175  1.949153  0.850282  0.905650  0.051977  0.418644   \n",
       "LaLiga         25.489510  2.363636  0.777622  0.811888  0.051748  0.321678   \n",
       "Ligue1         24.373418  1.689873  0.698101  0.959494  0.043038  0.293671   \n",
       "PremierLeague  25.570470  1.637584  0.681208  0.963087  0.048993  0.367114   \n",
       "SerieA         26.171779  1.944785  0.788344  0.811043  0.063804  0.368712   \n",
       "\n",
       "                 crosses      disp       drb    fouled       ...        \\\n",
       "league                                                       ...         \n",
       "Bundesliga     68.439231  0.910769  0.475385  0.980769       ...         \n",
       "Eredivisie     72.550282  1.074576  0.459322  0.994915       ...         \n",
       "LaLiga         74.022378  1.143357  0.418881  1.038462       ...         \n",
       "Ligue1         73.575949  1.267722  0.512025  0.922152       ...         \n",
       "PremierLeague  74.632215  1.095302  0.467114  0.766443       ...         \n",
       "SerieA         73.807692  1.069939  0.552761  1.123926       ...         \n",
       "\n",
       "                 rating       red       spg   tackles        tall      thrb  \\\n",
       "league                                                                        \n",
       "Bundesliga     6.606538  0.061538  1.280000  0.693846  182.584615  0.545385   \n",
       "Eredivisie     6.607571  0.062147  1.348588  0.702260  174.248588  0.722599   \n",
       "LaLiga         6.609580  0.076923  1.311189  0.757343  177.076923  0.541259   \n",
       "Ligue1         6.583671  0.164557  1.276582  0.729114  172.886076  0.528481   \n",
       "PremierLeague  6.550940  0.080537  1.200000  0.672483  178.476510  0.444295   \n",
       "SerieA         6.585337  0.171779  1.423926  0.738037  179.190184  0.623718   \n",
       "\n",
       "                 unstch     weight       yel  labeled_league  \n",
       "league                                                        \n",
       "Bundesliga     1.124615  76.946154  1.838462               0  \n",
       "Eredivisie     1.406780  71.322034  1.644068               5  \n",
       "LaLiga         1.279021  72.594406  2.804196               4  \n",
       "Ligue1         1.446835  70.658228  1.892405               1  \n",
       "PremierLeague  1.265772  72.912752  1.288591               3  \n",
       "SerieA         1.331288  73.711656  2.619632               2  \n",
       "\n",
       "[6 rows x 35 columns]"
      ]
     },
     "execution_count": 10,
     "metadata": {},
     "output_type": "execute_result"
    }
   ],
   "source": [
    "forward_league_mean_df = forward_df.groupby(['league']).mean()\n",
    "forward_league_mean_df"
   ]
  },
  {
   "cell_type": "code",
   "execution_count": 11,
   "metadata": {
    "collapsed": false
   },
   "outputs": [
    {
     "data": {
      "text/plain": [
       "'LaLiga'"
      ]
     },
     "execution_count": 11,
     "metadata": {},
     "output_type": "execute_result"
    }
   ],
   "source": [
    "forward_league_mean_df[forward_league_mean_df['age'].argsort() == 0].index[0]"
   ]
  },
  {
   "cell_type": "code",
   "execution_count": 12,
   "metadata": {
    "collapsed": false
   },
   "outputs": [
    {
     "data": {
      "text/plain": [
       "'SerieA'"
      ]
     },
     "execution_count": 12,
     "metadata": {},
     "output_type": "execute_result"
    }
   ],
   "source": [
    "forward_league_mean_df[forward_league_mean_df['age'].argsort() == 5].index[0]"
   ]
  },
  {
   "cell_type": "code",
   "execution_count": 13,
   "metadata": {
    "collapsed": false
   },
   "outputs": [],
   "source": [
    "bundes_high_list = []; bundes_low_list = []\n",
    "ered_high_list = []; ered_low_list = []\n",
    "laliga_high_list = []; laliga_low_list = []\n",
    "ligue1_high_list = []; ligue1_low_list = []\n",
    "premier_high_list = []; premier_low_list = []\n",
    "serie_high_list = []; serie_low_list = []\n",
    "\n",
    "for column in forward_league_mean_df.columns:\n",
    "    # high value sort\n",
    "    high_league = forward_league_mean_df[forward_league_mean_df[column].argsort() == 0].index[0]\n",
    "    \n",
    "    if high_league == 'Bundesliga':\n",
    "        bundes_high_list.append(column)\n",
    "        \n",
    "    if high_league == 'Eredivisie':\n",
    "        ered_high_list.append(column)\n",
    "        \n",
    "    if high_league == 'LaLiga':\n",
    "        laliga_high_list.append(column)\n",
    "        \n",
    "    if high_league == 'Ligue1':\n",
    "        ligue1_high_list.append(column)\n",
    "        \n",
    "    if high_league == 'PremierLeague':\n",
    "        premier_high_list.append(column)\n",
    "        \n",
    "    if high_league == 'SerieA':\n",
    "        serie_high_list.append(column)\n",
    "    \n",
    "    # low value sort\n",
    "    low_league = forward_league_mean_df[forward_league_mean_df[column].argsort() == 5].index[0]\n",
    "    \n",
    "    if low_league == 'Bundesliga':\n",
    "        bundes_low_list.append(column)\n",
    "        \n",
    "    if low_league == 'Eredivisie':\n",
    "        ered_low_list.append(column)\n",
    "        \n",
    "    if low_league == 'LaLiga':\n",
    "        laliga_low_list.append(column)\n",
    "        \n",
    "    if low_league == 'Ligue1':\n",
    "        ligue1_low_list.append(column)\n",
    "        \n",
    "    if low_league == 'PremierLeague':\n",
    "        premier_low_list.append(column)\n",
    "        \n",
    "    if low_league == 'SerieA':\n",
    "        serie_low_list.append(column)"
   ]
  },
  {
   "cell_type": "code",
   "execution_count": 14,
   "metadata": {
    "collapsed": false
   },
   "outputs": [
    {
     "data": {
      "text/plain": [
       "(['crosses', 'disp', 'owng', 'ps_x', 'red', 'unstch', 'labeled_league'],\n",
       " ['aw'])"
      ]
     },
     "execution_count": 14,
     "metadata": {},
     "output_type": "execute_result"
    }
   ],
   "source": [
    "bundes_high_list, bundes_low_list"
   ]
  },
  {
   "cell_type": "code",
   "execution_count": 15,
   "metadata": {
    "collapsed": false
   },
   "outputs": [
    {
     "data": {
      "text/plain": [
       "(['blocks',\n",
       "  'clear',\n",
       "  'goals',\n",
       "  'half_time',\n",
       "  'longb',\n",
       "  'motm',\n",
       "  'offsides',\n",
       "  'ps_y',\n",
       "  'tackles'],\n",
       " ['disp', 'owng', 'player_number'])"
      ]
     },
     "execution_count": 15,
     "metadata": {},
     "output_type": "execute_result"
    }
   ],
   "source": [
    "ered_high_list, ered_low_list"
   ]
  },
  {
   "cell_type": "code",
   "execution_count": 16,
   "metadata": {
    "collapsed": false
   },
   "outputs": [
    {
     "data": {
      "text/plain": [
       "(['age',\n",
       "  'asists',\n",
       "  'avgp',\n",
       "  'fouled',\n",
       "  'full_time',\n",
       "  'keyp',\n",
       "  'mins',\n",
       "  'player_number',\n",
       "  'spg',\n",
       "  'yel'],\n",
       " ['inter', 'longb', 'rating', 'labeled_league'])"
      ]
     },
     "execution_count": 16,
     "metadata": {},
     "output_type": "execute_result"
    }
   ],
   "source": [
    "laliga_high_list, laliga_low_list"
   ]
  },
  {
   "cell_type": "code",
   "execution_count": 17,
   "metadata": {
    "collapsed": false
   },
   "outputs": [
    {
     "data": {
      "text/plain": [
       "(['drb', 'rating', 'thrb'],\n",
       " ['asists', 'crosses', 'half_time', 'mins', 'ps_x', 'unstch'])"
      ]
     },
     "execution_count": 17,
     "metadata": {},
     "output_type": "execute_result"
    }
   ],
   "source": [
    "ligue1_high_list, ligue1_low_list"
   ]
  },
  {
   "cell_type": "code",
   "execution_count": 18,
   "metadata": {
    "collapsed": false
   },
   "outputs": [
    {
     "data": {
      "text/plain": [
       "(['fouls', 'off'],\n",
       " ['avgp',\n",
       "  'clear',\n",
       "  'full_time',\n",
       "  'goals',\n",
       "  'keyp',\n",
       "  'motm',\n",
       "  'ps_y',\n",
       "  'tackles',\n",
       "  'tall',\n",
       "  'thrb',\n",
       "  'weight',\n",
       "  'yel'])"
      ]
     },
     "execution_count": 18,
     "metadata": {},
     "output_type": "execute_result"
    }
   ],
   "source": [
    "premier_high_list, premier_low_list"
   ]
  },
  {
   "cell_type": "code",
   "execution_count": 19,
   "metadata": {
    "collapsed": false
   },
   "outputs": [
    {
     "data": {
      "text/plain": [
       "(['aw', 'inter', 'tall', 'weight'],\n",
       " ['age', 'blocks', 'drb', 'fouled', 'fouls', 'off', 'offsides', 'red', 'spg'])"
      ]
     },
     "execution_count": 19,
     "metadata": {},
     "output_type": "execute_result"
    }
   ],
   "source": [
    "serie_high_list, serie_low_list"
   ]
  },
  {
   "cell_type": "markdown",
   "metadata": {},
   "source": [
    "#### 미드필더"
   ]
  },
  {
   "cell_type": "code",
   "execution_count": 20,
   "metadata": {
    "collapsed": false
   },
   "outputs": [
    {
     "data": {
      "text/html": [
       "<div>\n",
       "<table border=\"1\" class=\"dataframe\">\n",
       "  <thead>\n",
       "    <tr style=\"text-align: right;\">\n",
       "      <th></th>\n",
       "      <th>age</th>\n",
       "      <th>asists</th>\n",
       "      <th>avgp</th>\n",
       "      <th>aw</th>\n",
       "      <th>blocks</th>\n",
       "      <th>clear</th>\n",
       "      <th>crosses</th>\n",
       "      <th>disp</th>\n",
       "      <th>drb</th>\n",
       "      <th>fouled</th>\n",
       "      <th>...</th>\n",
       "      <th>rating</th>\n",
       "      <th>red</th>\n",
       "      <th>spg</th>\n",
       "      <th>tackles</th>\n",
       "      <th>tall</th>\n",
       "      <th>thrb</th>\n",
       "      <th>unstch</th>\n",
       "      <th>weight</th>\n",
       "      <th>yel</th>\n",
       "      <th>labeled_league</th>\n",
       "    </tr>\n",
       "    <tr>\n",
       "      <th>league</th>\n",
       "      <th></th>\n",
       "      <th></th>\n",
       "      <th></th>\n",
       "      <th></th>\n",
       "      <th></th>\n",
       "      <th></th>\n",
       "      <th></th>\n",
       "      <th></th>\n",
       "      <th></th>\n",
       "      <th></th>\n",
       "      <th></th>\n",
       "      <th></th>\n",
       "      <th></th>\n",
       "      <th></th>\n",
       "      <th></th>\n",
       "      <th></th>\n",
       "      <th></th>\n",
       "      <th></th>\n",
       "      <th></th>\n",
       "      <th></th>\n",
       "      <th></th>\n",
       "    </tr>\n",
       "  </thead>\n",
       "  <tbody>\n",
       "    <tr>\n",
       "      <th>Bundesliga</th>\n",
       "      <td>24.840000</td>\n",
       "      <td>1.672000</td>\n",
       "      <td>0.699200</td>\n",
       "      <td>1.033600</td>\n",
       "      <td>0.092000</td>\n",
       "      <td>0.513600</td>\n",
       "      <td>74.260800</td>\n",
       "      <td>0.694400</td>\n",
       "      <td>0.700000</td>\n",
       "      <td>0.902400</td>\n",
       "      <td>...</td>\n",
       "      <td>6.662320</td>\n",
       "      <td>0.072000</td>\n",
       "      <td>0.960000</td>\n",
       "      <td>1.189600</td>\n",
       "      <td>179.592000</td>\n",
       "      <td>1.232000</td>\n",
       "      <td>0.847200</td>\n",
       "      <td>73.544000</td>\n",
       "      <td>2.272000</td>\n",
       "      <td>0</td>\n",
       "    </tr>\n",
       "    <tr>\n",
       "      <th>Eredivisie</th>\n",
       "      <td>22.597015</td>\n",
       "      <td>1.223881</td>\n",
       "      <td>0.622388</td>\n",
       "      <td>0.526866</td>\n",
       "      <td>0.123881</td>\n",
       "      <td>0.626866</td>\n",
       "      <td>74.646269</td>\n",
       "      <td>0.734328</td>\n",
       "      <td>0.505970</td>\n",
       "      <td>0.698507</td>\n",
       "      <td>...</td>\n",
       "      <td>6.480597</td>\n",
       "      <td>0.059701</td>\n",
       "      <td>0.808955</td>\n",
       "      <td>0.964179</td>\n",
       "      <td>168.701493</td>\n",
       "      <td>1.122388</td>\n",
       "      <td>0.822388</td>\n",
       "      <td>66.970149</td>\n",
       "      <td>1.343284</td>\n",
       "      <td>5</td>\n",
       "    </tr>\n",
       "    <tr>\n",
       "      <th>LaLiga</th>\n",
       "      <td>26.466667</td>\n",
       "      <td>1.637037</td>\n",
       "      <td>0.702222</td>\n",
       "      <td>0.863704</td>\n",
       "      <td>0.119259</td>\n",
       "      <td>0.611852</td>\n",
       "      <td>78.533333</td>\n",
       "      <td>0.917778</td>\n",
       "      <td>0.734074</td>\n",
       "      <td>0.993333</td>\n",
       "      <td>...</td>\n",
       "      <td>6.625407</td>\n",
       "      <td>0.214815</td>\n",
       "      <td>0.780000</td>\n",
       "      <td>1.425926</td>\n",
       "      <td>174.170370</td>\n",
       "      <td>1.594815</td>\n",
       "      <td>0.808148</td>\n",
       "      <td>70.770370</td>\n",
       "      <td>4.074074</td>\n",
       "      <td>4</td>\n",
       "    </tr>\n",
       "    <tr>\n",
       "      <th>Ligue1</th>\n",
       "      <td>25.166667</td>\n",
       "      <td>1.485507</td>\n",
       "      <td>0.679710</td>\n",
       "      <td>0.705797</td>\n",
       "      <td>0.070290</td>\n",
       "      <td>0.444203</td>\n",
       "      <td>79.031884</td>\n",
       "      <td>0.963043</td>\n",
       "      <td>0.731159</td>\n",
       "      <td>0.760145</td>\n",
       "      <td>...</td>\n",
       "      <td>6.599348</td>\n",
       "      <td>0.152174</td>\n",
       "      <td>0.723913</td>\n",
       "      <td>1.221014</td>\n",
       "      <td>172.942029</td>\n",
       "      <td>1.141304</td>\n",
       "      <td>0.957971</td>\n",
       "      <td>69.427536</td>\n",
       "      <td>2.137681</td>\n",
       "      <td>1</td>\n",
       "    </tr>\n",
       "    <tr>\n",
       "      <th>PremierLeague</th>\n",
       "      <td>26.440299</td>\n",
       "      <td>1.873134</td>\n",
       "      <td>0.854478</td>\n",
       "      <td>0.544776</td>\n",
       "      <td>0.123881</td>\n",
       "      <td>0.671642</td>\n",
       "      <td>80.655224</td>\n",
       "      <td>0.950000</td>\n",
       "      <td>0.863433</td>\n",
       "      <td>0.713433</td>\n",
       "      <td>...</td>\n",
       "      <td>6.655224</td>\n",
       "      <td>0.097015</td>\n",
       "      <td>0.876866</td>\n",
       "      <td>1.364179</td>\n",
       "      <td>172.425373</td>\n",
       "      <td>1.493284</td>\n",
       "      <td>0.945522</td>\n",
       "      <td>69.029851</td>\n",
       "      <td>2.201493</td>\n",
       "      <td>3</td>\n",
       "    </tr>\n",
       "    <tr>\n",
       "      <th>SerieA</th>\n",
       "      <td>27.015038</td>\n",
       "      <td>1.187970</td>\n",
       "      <td>0.772932</td>\n",
       "      <td>0.642857</td>\n",
       "      <td>0.167669</td>\n",
       "      <td>0.627068</td>\n",
       "      <td>80.095935</td>\n",
       "      <td>0.811278</td>\n",
       "      <td>0.783459</td>\n",
       "      <td>1.040602</td>\n",
       "      <td>...</td>\n",
       "      <td>6.630977</td>\n",
       "      <td>0.187970</td>\n",
       "      <td>0.878947</td>\n",
       "      <td>1.337594</td>\n",
       "      <td>178.030075</td>\n",
       "      <td>1.695122</td>\n",
       "      <td>0.805263</td>\n",
       "      <td>72.323308</td>\n",
       "      <td>3.187970</td>\n",
       "      <td>2</td>\n",
       "    </tr>\n",
       "  </tbody>\n",
       "</table>\n",
       "<p>6 rows × 35 columns</p>\n",
       "</div>"
      ],
      "text/plain": [
       "                     age    asists      avgp        aw    blocks     clear  \\\n",
       "league                                                                       \n",
       "Bundesliga     24.840000  1.672000  0.699200  1.033600  0.092000  0.513600   \n",
       "Eredivisie     22.597015  1.223881  0.622388  0.526866  0.123881  0.626866   \n",
       "LaLiga         26.466667  1.637037  0.702222  0.863704  0.119259  0.611852   \n",
       "Ligue1         25.166667  1.485507  0.679710  0.705797  0.070290  0.444203   \n",
       "PremierLeague  26.440299  1.873134  0.854478  0.544776  0.123881  0.671642   \n",
       "SerieA         27.015038  1.187970  0.772932  0.642857  0.167669  0.627068   \n",
       "\n",
       "                 crosses      disp       drb    fouled       ...        \\\n",
       "league                                                       ...         \n",
       "Bundesliga     74.260800  0.694400  0.700000  0.902400       ...         \n",
       "Eredivisie     74.646269  0.734328  0.505970  0.698507       ...         \n",
       "LaLiga         78.533333  0.917778  0.734074  0.993333       ...         \n",
       "Ligue1         79.031884  0.963043  0.731159  0.760145       ...         \n",
       "PremierLeague  80.655224  0.950000  0.863433  0.713433       ...         \n",
       "SerieA         80.095935  0.811278  0.783459  1.040602       ...         \n",
       "\n",
       "                 rating       red       spg   tackles        tall      thrb  \\\n",
       "league                                                                        \n",
       "Bundesliga     6.662320  0.072000  0.960000  1.189600  179.592000  1.232000   \n",
       "Eredivisie     6.480597  0.059701  0.808955  0.964179  168.701493  1.122388   \n",
       "LaLiga         6.625407  0.214815  0.780000  1.425926  174.170370  1.594815   \n",
       "Ligue1         6.599348  0.152174  0.723913  1.221014  172.942029  1.141304   \n",
       "PremierLeague  6.655224  0.097015  0.876866  1.364179  172.425373  1.493284   \n",
       "SerieA         6.630977  0.187970  0.878947  1.337594  178.030075  1.695122   \n",
       "\n",
       "                 unstch     weight       yel  labeled_league  \n",
       "league                                                        \n",
       "Bundesliga     0.847200  73.544000  2.272000               0  \n",
       "Eredivisie     0.822388  66.970149  1.343284               5  \n",
       "LaLiga         0.808148  70.770370  4.074074               4  \n",
       "Ligue1         0.957971  69.427536  2.137681               1  \n",
       "PremierLeague  0.945522  69.029851  2.201493               3  \n",
       "SerieA         0.805263  72.323308  3.187970               2  \n",
       "\n",
       "[6 rows x 35 columns]"
      ]
     },
     "execution_count": 20,
     "metadata": {},
     "output_type": "execute_result"
    }
   ],
   "source": [
    "mid_league_mean_df = mid_df.groupby(['league']).mean()\n",
    "mid_league_mean_df"
   ]
  },
  {
   "cell_type": "code",
   "execution_count": 21,
   "metadata": {
    "collapsed": true
   },
   "outputs": [],
   "source": [
    "bundes_high_list = []; bundes_low_list = []\n",
    "ered_high_list = []; ered_low_list = []\n",
    "laliga_high_list = []; laliga_low_list = []\n",
    "ligue1_high_list = []; ligue1_low_list = []\n",
    "premier_high_list = []; premier_low_list = []\n",
    "serie_high_list = []; serie_low_list = []\n",
    "\n",
    "for column in mid_league_mean_df.columns:\n",
    "    # high value sort\n",
    "    high_league = mid_league_mean_df[mid_league_mean_df[column].argsort() == 0].index[0]\n",
    "    \n",
    "    if high_league == 'Bundesliga':\n",
    "        bundes_high_list.append(column)\n",
    "        \n",
    "    if high_league == 'Eredivisie':\n",
    "        ered_high_list.append(column)\n",
    "        \n",
    "    if high_league == 'LaLiga':\n",
    "        laliga_high_list.append(column)\n",
    "        \n",
    "    if high_league == 'Ligue1':\n",
    "        ligue1_high_list.append(column)\n",
    "        \n",
    "    if high_league == 'PremierLeague':\n",
    "        premier_high_list.append(column)\n",
    "        \n",
    "    if high_league == 'SerieA':\n",
    "        serie_high_list.append(column)\n",
    "    \n",
    "    # low value sort\n",
    "    low_league = mid_league_mean_df[mid_league_mean_df[column].argsort() == 5].index[0]\n",
    "    \n",
    "    if low_league == 'Bundesliga':\n",
    "        bundes_low_list.append(column)\n",
    "        \n",
    "    if low_league == 'Eredivisie':\n",
    "        ered_low_list.append(column)\n",
    "        \n",
    "    if low_league == 'LaLiga':\n",
    "        laliga_low_list.append(column)\n",
    "        \n",
    "    if low_league == 'Ligue1':\n",
    "        ligue1_low_list.append(column)\n",
    "        \n",
    "    if low_league == 'PremierLeague':\n",
    "        premier_low_list.append(column)\n",
    "        \n",
    "    if low_league == 'SerieA':\n",
    "        serie_low_list.append(column)"
   ]
  },
  {
   "cell_type": "code",
   "execution_count": 22,
   "metadata": {
    "collapsed": false
   },
   "outputs": [
    {
     "data": {
      "text/plain": [
       "(['crosses', 'disp', 'longb', 'ps_x', 'labeled_league'],\n",
       " ['asists', 'goals', 'unstch'])"
      ]
     },
     "execution_count": 22,
     "metadata": {},
     "output_type": "execute_result"
    }
   ],
   "source": [
    "bundes_high_list, bundes_low_list"
   ]
  },
  {
   "cell_type": "code",
   "execution_count": 23,
   "metadata": {
    "collapsed": false
   },
   "outputs": [
    {
     "data": {
      "text/plain": [
       "(['age', 'blocks', 'clear', 'drb', 'half_time', 'ps_y', 'red', 'tackles'],\n",
       " ['motm', 'off', 'player_number'])"
      ]
     },
     "execution_count": 23,
     "metadata": {},
     "output_type": "execute_result"
    }
   ],
   "source": [
    "ered_high_list, ered_low_list"
   ]
  },
  {
   "cell_type": "code",
   "execution_count": 24,
   "metadata": {
    "collapsed": false
   },
   "outputs": [
    {
     "data": {
      "text/plain": [
       "(['avgp', 'full_time', 'keyp', 'mins', 'thrb'],\n",
       " ['aw', 'disp', 'offsides', 'labeled_league'])"
      ]
     },
     "execution_count": 24,
     "metadata": {},
     "output_type": "execute_result"
    }
   ],
   "source": [
    "laliga_high_list, laliga_low_list"
   ]
  },
  {
   "cell_type": "code",
   "execution_count": 25,
   "metadata": {
    "collapsed": false
   },
   "outputs": [
    {
     "data": {
      "text/plain": [
       "(['fouled', 'fouls', 'player_number', 'unstch', 'yel'],\n",
       " ['full_time', 'half_time', 'inter', 'mins', 'owng', 'rating', 'tackles'])"
      ]
     },
     "execution_count": 25,
     "metadata": {},
     "output_type": "execute_result"
    }
   ],
   "source": [
    "ligue1_high_list, ligue1_low_list"
   ]
  },
  {
   "cell_type": "code",
   "execution_count": 26,
   "metadata": {
    "collapsed": false
   },
   "outputs": [
    {
     "data": {
      "text/plain": [
       "(['asists', 'motm', 'offsides'],\n",
       " ['avgp',\n",
       "  'clear',\n",
       "  'crosses',\n",
       "  'drb',\n",
       "  'keyp',\n",
       "  'longb',\n",
       "  'ps_x',\n",
       "  'red',\n",
       "  'spg',\n",
       "  'tall',\n",
       "  'weight',\n",
       "  'yel'])"
      ]
     },
     "execution_count": 26,
     "metadata": {},
     "output_type": "execute_result"
    }
   ],
   "source": [
    "premier_high_list, premier_low_list"
   ]
  },
  {
   "cell_type": "code",
   "execution_count": 27,
   "metadata": {
    "collapsed": false
   },
   "outputs": [
    {
     "data": {
      "text/plain": [
       "(['aw', 'goals', 'inter', 'off', 'owng', 'rating', 'spg', 'tall', 'weight'],\n",
       " ['age', 'blocks', 'fouled', 'fouls', 'ps_y', 'thrb'])"
      ]
     },
     "execution_count": 27,
     "metadata": {},
     "output_type": "execute_result"
    }
   ],
   "source": [
    "serie_high_list, serie_low_list"
   ]
  },
  {
   "cell_type": "markdown",
   "metadata": {},
   "source": [
    "#### 수비수"
   ]
  },
  {
   "cell_type": "code",
   "execution_count": 28,
   "metadata": {
    "collapsed": false
   },
   "outputs": [
    {
     "data": {
      "text/html": [
       "<div>\n",
       "<table border=\"1\" class=\"dataframe\">\n",
       "  <thead>\n",
       "    <tr style=\"text-align: right;\">\n",
       "      <th></th>\n",
       "      <th>age</th>\n",
       "      <th>asists</th>\n",
       "      <th>avgp</th>\n",
       "      <th>aw</th>\n",
       "      <th>blocks</th>\n",
       "      <th>clear</th>\n",
       "      <th>crosses</th>\n",
       "      <th>disp</th>\n",
       "      <th>drb</th>\n",
       "      <th>fouled</th>\n",
       "      <th>...</th>\n",
       "      <th>rating</th>\n",
       "      <th>red</th>\n",
       "      <th>spg</th>\n",
       "      <th>tackles</th>\n",
       "      <th>tall</th>\n",
       "      <th>thrb</th>\n",
       "      <th>unstch</th>\n",
       "      <th>weight</th>\n",
       "      <th>yel</th>\n",
       "      <th>labeled_league</th>\n",
       "    </tr>\n",
       "    <tr>\n",
       "      <th>league</th>\n",
       "      <th></th>\n",
       "      <th></th>\n",
       "      <th></th>\n",
       "      <th></th>\n",
       "      <th></th>\n",
       "      <th></th>\n",
       "      <th></th>\n",
       "      <th></th>\n",
       "      <th></th>\n",
       "      <th></th>\n",
       "      <th></th>\n",
       "      <th></th>\n",
       "      <th></th>\n",
       "      <th></th>\n",
       "      <th></th>\n",
       "      <th></th>\n",
       "      <th></th>\n",
       "      <th></th>\n",
       "      <th></th>\n",
       "      <th></th>\n",
       "      <th></th>\n",
       "    </tr>\n",
       "  </thead>\n",
       "  <tbody>\n",
       "    <tr>\n",
       "      <th>Bundesliga</th>\n",
       "      <td>26.059701</td>\n",
       "      <td>0.835821</td>\n",
       "      <td>0.423881</td>\n",
       "      <td>1.880597</td>\n",
       "      <td>0.329353</td>\n",
       "      <td>2.419900</td>\n",
       "      <td>74.832836</td>\n",
       "      <td>0.344776</td>\n",
       "      <td>0.696517</td>\n",
       "      <td>0.878607</td>\n",
       "      <td>...</td>\n",
       "      <td>6.739751</td>\n",
       "      <td>0.104478</td>\n",
       "      <td>0.479104</td>\n",
       "      <td>1.564677</td>\n",
       "      <td>184.283582</td>\n",
       "      <td>2.264179</td>\n",
       "      <td>0.527363</td>\n",
       "      <td>78.771144</td>\n",
       "      <td>3.054726</td>\n",
       "      <td>0</td>\n",
       "    </tr>\n",
       "    <tr>\n",
       "      <th>Eredivisie</th>\n",
       "      <td>24.828283</td>\n",
       "      <td>1.040404</td>\n",
       "      <td>0.508081</td>\n",
       "      <td>1.281818</td>\n",
       "      <td>0.376768</td>\n",
       "      <td>3.045960</td>\n",
       "      <td>78.480303</td>\n",
       "      <td>0.431818</td>\n",
       "      <td>0.648990</td>\n",
       "      <td>0.706061</td>\n",
       "      <td>...</td>\n",
       "      <td>6.774747</td>\n",
       "      <td>0.156566</td>\n",
       "      <td>0.484343</td>\n",
       "      <td>1.661111</td>\n",
       "      <td>176.303030</td>\n",
       "      <td>3.101515</td>\n",
       "      <td>0.519697</td>\n",
       "      <td>71.479798</td>\n",
       "      <td>2.838384</td>\n",
       "      <td>5</td>\n",
       "    </tr>\n",
       "    <tr>\n",
       "      <th>LaLiga</th>\n",
       "      <td>26.880000</td>\n",
       "      <td>0.893333</td>\n",
       "      <td>0.356000</td>\n",
       "      <td>1.330222</td>\n",
       "      <td>0.324889</td>\n",
       "      <td>2.674222</td>\n",
       "      <td>77.115556</td>\n",
       "      <td>0.428889</td>\n",
       "      <td>0.645778</td>\n",
       "      <td>0.721778</td>\n",
       "      <td>...</td>\n",
       "      <td>6.737956</td>\n",
       "      <td>0.271111</td>\n",
       "      <td>0.412889</td>\n",
       "      <td>1.852444</td>\n",
       "      <td>178.737778</td>\n",
       "      <td>2.240444</td>\n",
       "      <td>0.554667</td>\n",
       "      <td>73.791111</td>\n",
       "      <td>4.457778</td>\n",
       "      <td>4</td>\n",
       "    </tr>\n",
       "    <tr>\n",
       "      <th>Ligue1</th>\n",
       "      <td>26.562791</td>\n",
       "      <td>0.734884</td>\n",
       "      <td>0.393023</td>\n",
       "      <td>1.579070</td>\n",
       "      <td>0.297674</td>\n",
       "      <td>2.528372</td>\n",
       "      <td>79.627442</td>\n",
       "      <td>0.554419</td>\n",
       "      <td>0.739070</td>\n",
       "      <td>0.833023</td>\n",
       "      <td>...</td>\n",
       "      <td>6.852698</td>\n",
       "      <td>0.265116</td>\n",
       "      <td>0.411163</td>\n",
       "      <td>1.933488</td>\n",
       "      <td>180.144186</td>\n",
       "      <td>2.297209</td>\n",
       "      <td>0.573953</td>\n",
       "      <td>74.744186</td>\n",
       "      <td>3.455814</td>\n",
       "      <td>1</td>\n",
       "    </tr>\n",
       "    <tr>\n",
       "      <th>PremierLeague</th>\n",
       "      <td>26.673171</td>\n",
       "      <td>0.809756</td>\n",
       "      <td>0.414634</td>\n",
       "      <td>1.490244</td>\n",
       "      <td>0.449268</td>\n",
       "      <td>3.344390</td>\n",
       "      <td>77.680976</td>\n",
       "      <td>0.472195</td>\n",
       "      <td>0.735122</td>\n",
       "      <td>0.590732</td>\n",
       "      <td>...</td>\n",
       "      <td>6.827561</td>\n",
       "      <td>0.136585</td>\n",
       "      <td>0.481951</td>\n",
       "      <td>1.791220</td>\n",
       "      <td>180.341463</td>\n",
       "      <td>2.092683</td>\n",
       "      <td>0.533171</td>\n",
       "      <td>75.351220</td>\n",
       "      <td>2.975610</td>\n",
       "      <td>3</td>\n",
       "    </tr>\n",
       "    <tr>\n",
       "      <th>SerieA</th>\n",
       "      <td>27.309623</td>\n",
       "      <td>0.744770</td>\n",
       "      <td>0.445188</td>\n",
       "      <td>1.230126</td>\n",
       "      <td>0.385356</td>\n",
       "      <td>2.774895</td>\n",
       "      <td>80.588987</td>\n",
       "      <td>0.410879</td>\n",
       "      <td>0.627615</td>\n",
       "      <td>0.821757</td>\n",
       "      <td>...</td>\n",
       "      <td>6.752301</td>\n",
       "      <td>0.301255</td>\n",
       "      <td>0.440167</td>\n",
       "      <td>1.571967</td>\n",
       "      <td>181.928870</td>\n",
       "      <td>2.313216</td>\n",
       "      <td>0.515481</td>\n",
       "      <td>76.267782</td>\n",
       "      <td>3.991632</td>\n",
       "      <td>2</td>\n",
       "    </tr>\n",
       "  </tbody>\n",
       "</table>\n",
       "<p>6 rows × 35 columns</p>\n",
       "</div>"
      ],
      "text/plain": [
       "                     age    asists      avgp        aw    blocks     clear  \\\n",
       "league                                                                       \n",
       "Bundesliga     26.059701  0.835821  0.423881  1.880597  0.329353  2.419900   \n",
       "Eredivisie     24.828283  1.040404  0.508081  1.281818  0.376768  3.045960   \n",
       "LaLiga         26.880000  0.893333  0.356000  1.330222  0.324889  2.674222   \n",
       "Ligue1         26.562791  0.734884  0.393023  1.579070  0.297674  2.528372   \n",
       "PremierLeague  26.673171  0.809756  0.414634  1.490244  0.449268  3.344390   \n",
       "SerieA         27.309623  0.744770  0.445188  1.230126  0.385356  2.774895   \n",
       "\n",
       "                 crosses      disp       drb    fouled       ...        \\\n",
       "league                                                       ...         \n",
       "Bundesliga     74.832836  0.344776  0.696517  0.878607       ...         \n",
       "Eredivisie     78.480303  0.431818  0.648990  0.706061       ...         \n",
       "LaLiga         77.115556  0.428889  0.645778  0.721778       ...         \n",
       "Ligue1         79.627442  0.554419  0.739070  0.833023       ...         \n",
       "PremierLeague  77.680976  0.472195  0.735122  0.590732       ...         \n",
       "SerieA         80.588987  0.410879  0.627615  0.821757       ...         \n",
       "\n",
       "                 rating       red       spg   tackles        tall      thrb  \\\n",
       "league                                                                        \n",
       "Bundesliga     6.739751  0.104478  0.479104  1.564677  184.283582  2.264179   \n",
       "Eredivisie     6.774747  0.156566  0.484343  1.661111  176.303030  3.101515   \n",
       "LaLiga         6.737956  0.271111  0.412889  1.852444  178.737778  2.240444   \n",
       "Ligue1         6.852698  0.265116  0.411163  1.933488  180.144186  2.297209   \n",
       "PremierLeague  6.827561  0.136585  0.481951  1.791220  180.341463  2.092683   \n",
       "SerieA         6.752301  0.301255  0.440167  1.571967  181.928870  2.313216   \n",
       "\n",
       "                 unstch     weight       yel  labeled_league  \n",
       "league                                                        \n",
       "Bundesliga     0.527363  78.771144  3.054726               0  \n",
       "Eredivisie     0.519697  71.479798  2.838384               5  \n",
       "LaLiga         0.554667  73.791111  4.457778               4  \n",
       "Ligue1         0.573953  74.744186  3.455814               1  \n",
       "PremierLeague  0.533171  75.351220  2.975610               3  \n",
       "SerieA         0.515481  76.267782  3.991632               2  \n",
       "\n",
       "[6 rows x 35 columns]"
      ]
     },
     "execution_count": 28,
     "metadata": {},
     "output_type": "execute_result"
    }
   ],
   "source": [
    "defense_league_mean_df = defense_df.groupby(['league']).mean()\n",
    "defense_league_mean_df"
   ]
  },
  {
   "cell_type": "code",
   "execution_count": 29,
   "metadata": {
    "collapsed": true
   },
   "outputs": [],
   "source": [
    "bundes_high_list = []; bundes_low_list = []\n",
    "ered_high_list = []; ered_low_list = []\n",
    "laliga_high_list = []; laliga_low_list = []\n",
    "ligue1_high_list = []; ligue1_low_list = []\n",
    "premier_high_list = []; premier_low_list = []\n",
    "serie_high_list = []; serie_low_list = []\n",
    "\n",
    "for column in defense_league_mean_df.columns:\n",
    "    # high value sort\n",
    "    high_league = defense_league_mean_df[defense_league_mean_df[column].argsort() == 0].index[0]\n",
    "    \n",
    "    if high_league == 'Bundesliga':\n",
    "        bundes_high_list.append(column)\n",
    "        \n",
    "    if high_league == 'Eredivisie':\n",
    "        ered_high_list.append(column)\n",
    "        \n",
    "    if high_league == 'LaLiga':\n",
    "        laliga_high_list.append(column)\n",
    "        \n",
    "    if high_league == 'Ligue1':\n",
    "        ligue1_high_list.append(column)\n",
    "        \n",
    "    if high_league == 'PremierLeague':\n",
    "        premier_high_list.append(column)\n",
    "        \n",
    "    if high_league == 'SerieA':\n",
    "        serie_high_list.append(column)\n",
    "    \n",
    "    # low value sort\n",
    "    low_league = defense_league_mean_df[defense_league_mean_df[column].argsort() == 5].index[0]\n",
    "    \n",
    "    if low_league == 'Bundesliga':\n",
    "        bundes_low_list.append(column)\n",
    "        \n",
    "    if low_league == 'Eredivisie':\n",
    "        ered_low_list.append(column)\n",
    "        \n",
    "    if low_league == 'LaLiga':\n",
    "        laliga_low_list.append(column)\n",
    "        \n",
    "    if low_league == 'Ligue1':\n",
    "        ligue1_low_list.append(column)\n",
    "        \n",
    "    if low_league == 'PremierLeague':\n",
    "        premier_low_list.append(column)\n",
    "        \n",
    "    if low_league == 'SerieA':\n",
    "        serie_low_list.append(column)"
   ]
  },
  {
   "cell_type": "code",
   "execution_count": 30,
   "metadata": {
    "collapsed": false
   },
   "outputs": [
    {
     "data": {
      "text/plain": [
       "(['clear',\n",
       "  'crosses',\n",
       "  'disp',\n",
       "  'full_time',\n",
       "  'longb',\n",
       "  'mins',\n",
       "  'motm',\n",
       "  'ps_x',\n",
       "  'red',\n",
       "  'tackles',\n",
       "  'labeled_league'],\n",
       " ['aw', 'drb', 'unstch'])"
      ]
     },
     "execution_count": 30,
     "metadata": {},
     "output_type": "execute_result"
    }
   ],
   "source": [
    "bundes_high_list, bundes_low_list"
   ]
  },
  {
   "cell_type": "code",
   "execution_count": 31,
   "metadata": {
    "collapsed": false
   },
   "outputs": [
    {
     "data": {
      "text/plain": [
       "(['age', 'fouls', 'goals', 'off', 'rating'],\n",
       " ['asists',\n",
       "  'disp',\n",
       "  'full_time',\n",
       "  'inter',\n",
       "  'mins',\n",
       "  'owng',\n",
       "  'player_number',\n",
       "  'tackles'])"
      ]
     },
     "execution_count": 31,
     "metadata": {},
     "output_type": "execute_result"
    }
   ],
   "source": [
    "ered_high_list, ered_low_list"
   ]
  },
  {
   "cell_type": "code",
   "execution_count": 32,
   "metadata": {
    "collapsed": false
   },
   "outputs": [
    {
     "data": {
      "text/plain": [
       "(['blocks', 'inter', 'owng', 'player_number', 'thrb', 'unstch', 'yel'],\n",
       " ['goals', 'motm', 'ps_y', 'rating', 'spg', 'labeled_league'])"
      ]
     },
     "execution_count": 32,
     "metadata": {},
     "output_type": "execute_result"
    }
   ],
   "source": [
    "laliga_high_list, laliga_low_list"
   ]
  },
  {
   "cell_type": "code",
   "execution_count": 33,
   "metadata": {
    "collapsed": false
   },
   "outputs": [
    {
     "data": {
      "text/plain": [
       "(['asists', 'avgp', 'drb', 'keyp', 'ps_y', 'spg'],\n",
       " ['clear', 'fouled', 'offsides'])"
      ]
     },
     "execution_count": 33,
     "metadata": {},
     "output_type": "execute_result"
    }
   ],
   "source": [
    "ligue1_high_list, ligue1_low_list"
   ]
  },
  {
   "cell_type": "code",
   "execution_count": 34,
   "metadata": {
    "collapsed": false
   },
   "outputs": [
    {
     "data": {
      "text/plain": [
       "([],\n",
       " ['avgp',\n",
       "  'blocks',\n",
       "  'half_time',\n",
       "  'keyp',\n",
       "  'off',\n",
       "  'tall',\n",
       "  'thrb',\n",
       "  'weight',\n",
       "  'yel'])"
      ]
     },
     "execution_count": 34,
     "metadata": {},
     "output_type": "execute_result"
    }
   ],
   "source": [
    "premier_high_list, premier_low_list"
   ]
  },
  {
   "cell_type": "code",
   "execution_count": 35,
   "metadata": {
    "collapsed": false
   },
   "outputs": [
    {
     "data": {
      "text/plain": [
       "(['aw', 'fouled', 'half_time', 'offsides', 'tall', 'weight'],\n",
       " ['age', 'crosses', 'fouls', 'longb', 'ps_x', 'red'])"
      ]
     },
     "execution_count": 35,
     "metadata": {},
     "output_type": "execute_result"
    }
   ],
   "source": [
    "serie_high_list, serie_low_list"
   ]
  },
  {
   "cell_type": "markdown",
   "metadata": {},
   "source": [
    "### 3) 팀별 특성변수 분석"
   ]
  },
  {
   "cell_type": "code",
   "execution_count": 54,
   "metadata": {
    "collapsed": true
   },
   "outputs": [],
   "source": [
    "bundes_team_mean_df = total_player_df[total_player_df['league'] == 'Bundesliga'].groupby(['team_name']).mean()\n",
    "ered_team_mean_df = total_player_df[total_player_df['league'] == 'Eredivisie'].groupby(['team_name']).mean()\n",
    "laliga_team_mean_df = total_player_df[total_player_df['league'] == 'LaLiga'].groupby(['team_name']).mean()\n",
    "ligue1_team_mean_df = total_player_df[total_player_df['league'] == 'Ligue1'].groupby(['team_name']).mean()\n",
    "premier_team_mean_df = total_player_df[total_player_df['league'] == 'PremierLeague'].groupby(['team_name']).mean()\n",
    "serie_team_mean_df = total_player_df[total_player_df['league'] == 'SerieA'].groupby(['team_name']).mean()"
   ]
  },
  {
   "cell_type": "code",
   "execution_count": 55,
   "metadata": {
    "collapsed": true
   },
   "outputs": [],
   "source": [
    "bundes_team_mean_df.to_csv('./data/League_team_mean/bundes_team_mean.csv')\n",
    "ered_team_mean_df.to_csv('./data/League_team_mean/ered_team_mean.csv')\n",
    "laliga_team_mean_df.to_csv('./data/League_team_mean/laliga_team_mean.csv')\n",
    "ligue1_team_mean_df.to_csv('./data/League_team_mean/ligue1_team_mean.csv')\n",
    "premier_team_mean_df.to_csv('./data/League_team_mean/premier_team_mean.csv')\n",
    "serie_team_mean_df.to_csv('./data/League_team_mean/serie_team_mean.csv')"
   ]
  },
  {
   "cell_type": "code",
   "execution_count": null,
   "metadata": {
    "collapsed": true
   },
   "outputs": [],
   "source": []
  }
 ],
 "metadata": {
  "kernelspec": {
   "display_name": "Python 3",
   "language": "python",
   "name": "python3"
  },
  "language_info": {
   "codemirror_mode": {
    "name": "ipython",
    "version": 3
   },
   "file_extension": ".py",
   "mimetype": "text/x-python",
   "name": "python",
   "nbconvert_exporter": "python",
   "pygments_lexer": "ipython3",
   "version": "3.5.2"
  }
 },
 "nbformat": 4,
 "nbformat_minor": 0
}
