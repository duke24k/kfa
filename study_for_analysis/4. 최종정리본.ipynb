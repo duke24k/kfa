{
 "cells": [
  {
   "cell_type": "markdown",
   "metadata": {},
   "source": [
    "# 선수 개인별 리그 / 팀 추천 시스템 구현"
   ]
  },
  {
   "cell_type": "markdown",
   "metadata": {},
   "source": [
    "#### import packages"
   ]
  },
  {
   "cell_type": "code",
   "execution_count": 2,
   "metadata": {
    "collapsed": false
   },
   "outputs": [],
   "source": [
    "import pandas as pd\n",
    "import seaborn as sns\n",
    "from matplotlib import pyplot as plt\n",
    "%matplotlib inline\n",
    "\n",
    "import numpy as np\n",
    "from sklearn.decomposition import PCA\n",
    "from sklearn import linear_model, decomposition\n",
    "from sklearn.pipeline import Pipeline\n",
    "from sklearn.metrics import classification_report"
   ]
  },
  {
   "cell_type": "markdown",
   "metadata": {},
   "source": [
    "## 0) 데이터전처리"
   ]
  },
  {
   "cell_type": "code",
   "execution_count": 19,
   "metadata": {
    "collapsed": false
   },
   "outputs": [],
   "source": [
    "merged_player = pd.read_csv(\"./merged_player.csv\", encoding='utf-8')\n",
    "# merged_player = merged_player.drop(['Unnamed: 0', 'Unnamed: 0.1'], axis=1)"
   ]
  },
  {
   "cell_type": "code",
   "execution_count": 20,
   "metadata": {
    "collapsed": false
   },
   "outputs": [],
   "source": [
    "drop_column_list = ['Unnamed: 0', 'Unnamed: 0.1', 'full_time', 'half_time', 'player_number', 'motm','flag', 'mins', 'ps_y', 'rating']\n",
    "merged_player = merged_player.drop(drop_column_list, axis=1)"
   ]
  },
  {
   "cell_type": "code",
   "execution_count": 21,
   "metadata": {
    "collapsed": true
   },
   "outputs": [],
   "source": [
    "# 포지션 별 데이터프레임 얻기\n",
    "merged_player[\"position\"] = merged_player[\"position\"].apply(lambda x: x.strip())\n",
    "\n",
    "# get unique position\n",
    "forward_pos = []\n",
    "mid_pos = []\n",
    "defense_pos = []\n",
    "\n",
    "for position in merged_player[\"position\"].unique():\n",
    "    \n",
    "    \n",
    "    if position.find(\"F\") == 0:\n",
    "        forward_pos.append(position)\n",
    "        \n",
    "    if position.find(\"A\") == 0:\n",
    "        forward_pos.append(position)\n",
    "        \n",
    "    if position.find(\"M\") == 0:\n",
    "        mid_pos.append(position)\n",
    "        \n",
    "    if position.find(\"D\") == 0:\n",
    "        defense_pos.append(position)\n",
    "        \n",
    "        \n",
    "forward_df = pd.DataFrame(columns=merged_player.columns)\n",
    "\n",
    "for position in forward_pos:\n",
    "    f_df = merged_player[merged_player[\"position\"] == position]\n",
    "    forward_df = pd.concat([forward_df, f_df])\n",
    "    \n",
    "mid_df = pd.DataFrame(columns=merged_player.columns)\n",
    "\n",
    "for position in mid_pos:\n",
    "    m_df = merged_player[merged_player[\"position\"] == position]\n",
    "    mid_df = pd.concat([mid_df, m_df])\n",
    "    \n",
    "defense_df = pd.DataFrame(columns=merged_player.columns)\n",
    "\n",
    "for position in defense_pos:\n",
    "    d_df = merged_player[merged_player[\"position\"] == position]\n",
    "    defense_df = pd.concat([defense_df, d_df])\n",
    "    \n",
    "    \n",
    "forward_df.to_csv(\"./forward.csv\")\n",
    "mid_df.to_csv(\"./midfielder.csv\")\n",
    "defense_df.to_csv(\"./defense.csv\")"
   ]
  },
  {
   "cell_type": "markdown",
   "metadata": {},
   "source": [
    "## 1) 특성변수 파악"
   ]
  },
  {
   "cell_type": "code",
   "execution_count": 30,
   "metadata": {
    "collapsed": true
   },
   "outputs": [],
   "source": [
    "def check_important_var(df):\n",
    "    bundes_min_list, bundes_max_list = [], []\n",
    "    laliga_min_list, laliga_max_list = [], []\n",
    "    ligue1_min_list, ligue1_max_list = [], []\n",
    "    premier_min_list, premier_max_list = [], []\n",
    "    ered_min_list, ered_max_list = [], []\n",
    "    serie_min_list, serie_max_list = [], []\n",
    "    for column in df.columns[:-1]:\n",
    "        min_value, max_value, avg_value = df[column].min(), df[column].max(), df[column].mean()\n",
    "        dif_min_value, dif_max_value = np.abs(min_value - avg_value), np.abs(max_value - avg_value)\n",
    "        league_name_in_min_value, league_name_in_max_value = df[df[column] == min_value]['league'], df[df[column] == max_value]['league']\n",
    "        \n",
    "#         if df[df[column] == min_value]['league'] == 'Bundesliga':\n",
    "#             bundes_min_list.append(column)\n",
    "            \n",
    "#         if df[df[column] == max_value]['league'] == 'Bundesliga':\n",
    "#             bundes_max_list.append(column)\n",
    "            \n",
    "#         if df[df[column] == min_value]['league'] == 'Ligue1':\n",
    "#             ligue1_min_list.append(column)\n",
    "            \n",
    "#         if df[df[column] == max_value]['league'] == 'Ligue1':\n",
    "#             ligue1_max_list.append(column)\n",
    "        \n",
    "#         if df[df[column] == min_value]['league'] == 'SerieA':\n",
    "#             serie_min_list.append(column)\n",
    "            \n",
    "#         if df[df[column] == max_value]['league'] == 'SerieA':\n",
    "#             serie_max_list.append(column)\n",
    "            \n",
    "#         if df[df[column] == min_value]['league'] == 'PremierLeague':\n",
    "#             premier_min_list.append(column)\n",
    "            \n",
    "#         if df[df[column] == max_value]['league'] == 'PremierLeague':\n",
    "#             premier_max_list.append(column)\n",
    "            \n",
    "#         if df[df[column] == min_value]['league'] == 'LaLiga':\n",
    "#             laliga_min_list.append(column)\n",
    "            \n",
    "#         if df[df[column] == max_value]['league'] == 'LaLiga':\n",
    "#             laliga_max_list.append(column)\n",
    "            \n",
    "#         if df[df[column] == min_value]['league'] == 'Eredivisie':\n",
    "#             ered_min_list.append(column)\n",
    "            \n",
    "#         if df[df[column] == max_value]['league'] == 'Eredivisie':\n",
    "#             ered_max_list.append(column)\n",
    "        \n",
    "        print(column)\n",
    "        print(\"-----------------------------------\")\n",
    "        print(\"리그이름    최소값     평균     오차\")\n",
    "        print(league_name_in_min_value, min_value, avg_value, dif_min_value)\n",
    "        print(\"리그이름    최대값     평균     오차\")\n",
    "        print(league_name_in_max_value, max_value, avg_value, dif_max_value)\n",
    "        print(\"\\n\")"
   ]
  },
  {
   "cell_type": "code",
   "execution_count": 24,
   "metadata": {
    "collapsed": false
   },
   "outputs": [
    {
     "data": {
      "text/plain": [
       "Index(['age', 'asists', 'avgp', 'aw', 'blocks', 'clear', 'crosses', 'disp',\n",
       "       'drb', 'fouled', 'fouls', 'goals', 'inter', 'keyp', 'longb', 'off',\n",
       "       'offsides', 'owng', 'position', 'ps_x', 'red', 'spg', 'tackles', 'tall',\n",
       "       'thrb', 'unstch', 'weight', 'yel', 'league'],\n",
       "      dtype='object')"
      ]
     },
     "execution_count": 24,
     "metadata": {},
     "output_type": "execute_result"
    }
   ],
   "source": [
    "forward_df0 = forward_df.drop(['league', 'name', 'team_name'], axis=1)\n",
    "forward_df0['league'] = forward_df['league']\n",
    "forward_df0.columns"
   ]
  },
  {
   "cell_type": "code",
   "execution_count": null,
   "metadata": {
    "collapsed": true
   },
   "outputs": [],
   "source": [
    "forw"
   ]
  }
 ],
 "metadata": {
  "kernelspec": {
   "display_name": "Python 3",
   "language": "python",
   "name": "python3"
  },
  "language_info": {
   "codemirror_mode": {
    "name": "ipython",
    "version": 3
   },
   "file_extension": ".py",
   "mimetype": "text/x-python",
   "name": "python",
   "nbconvert_exporter": "python",
   "pygments_lexer": "ipython3",
   "version": "3.5.2"
  }
 },
 "nbformat": 4,
 "nbformat_minor": 0
}
